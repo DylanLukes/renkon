{
 "cells": [
  {
   "metadata": {
    "ExecuteTime": {
     "end_time": "2024-06-26T16:31:28.504133Z",
     "start_time": "2024-06-26T16:31:28.050098Z"
    }
   },
   "cell_type": "code",
   "source": [
    "\n",
    "from renkon.core.model.trait.result import TraitResult"
   ],
   "id": "56145ffbd1c5a0cf",
   "outputs": [
    {
     "ename": "PydanticSchemaGenerationError",
     "evalue": "Unable to generate pydantic-core schema for <class 'polars.series.series.Series'>. Set `arbitrary_types_allowed=True` in the model_config to ignore this error or implement `__get_pydantic_core_schema__` on your type to fully support it.\n\nIf you got this error by calling handler(<some type>) within `__get_pydantic_core_schema__` then you likely need to call `handler.generate_schema(<some type>)` since we do not call `__get_pydantic_core_schema__` on `<some type>` otherwise to avoid infinite recursion.\n\nFor further information visit https://errors.pydantic.dev/2.7/u/schema-for-unknown-type",
     "output_type": "error",
     "traceback": [
      "\u001B[0;31m---------------------------------------------------------------------------\u001B[0m",
      "\u001B[0;31mPydanticSchemaGenerationError\u001B[0m             Traceback (most recent call last)",
      "Cell \u001B[0;32mIn[1], line 1\u001B[0m\n\u001B[0;32m----> 1\u001B[0m \u001B[38;5;28;01mfrom\u001B[39;00m \u001B[38;5;21;01mrenkon\u001B[39;00m\u001B[38;5;21;01m.\u001B[39;00m\u001B[38;5;21;01mcore\u001B[39;00m\u001B[38;5;21;01m.\u001B[39;00m\u001B[38;5;21;01mmodel\u001B[39;00m\u001B[38;5;21;01m.\u001B[39;00m\u001B[38;5;21;01mtrait\u001B[39;00m\u001B[38;5;21;01m.\u001B[39;00m\u001B[38;5;21;01mnew\u001B[39;00m \u001B[38;5;28;01mimport\u001B[39;00m Result\n",
      "File \u001B[0;32m~/PycharmProjects/renkon/src/renkon/core/model/trait/new.py:20\u001B[0m\n\u001B[1;32m     15\u001B[0m \u001B[38;5;28;01mfrom\u001B[39;00m \u001B[38;5;21;01mrenkon\u001B[39;00m\u001B[38;5;21;01m.\u001B[39;00m\u001B[38;5;21;01mcore\u001B[39;00m\u001B[38;5;21;01m.\u001B[39;00m\u001B[38;5;21;01mmodel\u001B[39;00m\u001B[38;5;21;01m.\u001B[39;00m\u001B[38;5;21;01mtrait\u001B[39;00m \u001B[38;5;28;01mimport\u001B[39;00m TraitForm, TraitSpec\n\u001B[1;32m     17\u001B[0m BitSeries \u001B[38;5;241m=\u001B[39m Annotated[Series, Predicate(\u001B[38;5;28;01mlambda\u001B[39;00m x: x\u001B[38;5;241m.\u001B[39mdtype \u001B[38;5;241m==\u001B[39m \u001B[38;5;124m\"\u001B[39m\u001B[38;5;124mbool\u001B[39m\u001B[38;5;124m\"\u001B[39m)]\n\u001B[0;32m---> 20\u001B[0m \u001B[38;5;28;43;01mclass\u001B[39;49;00m\u001B[43m \u001B[49m\u001B[38;5;21;43;01mResult\u001B[39;49;00m\u001B[43m(\u001B[49m\u001B[43mBaseModel\u001B[49m\u001B[43m)\u001B[49m\u001B[43m:\u001B[49m\n\u001B[1;32m     21\u001B[0m \u001B[38;5;250;43m    \u001B[39;49m\u001B[38;5;124;43;03m\"\"\"\u001B[39;49;00m\n\u001B[1;32m     22\u001B[0m \u001B[38;5;124;43;03m    \"\"\"\u001B[39;49;00m\n\u001B[1;32m     23\u001B[0m \u001B[43m    \u001B[49m\u001B[43msketch\u001B[49m\u001B[43m:\u001B[49m\u001B[43m \u001B[49m\u001B[43mSketchInfo\u001B[49m\n",
      "File \u001B[0;32m~/PycharmProjects/renkon/.hatch/renkon/lib/python3.12/site-packages/pydantic/_internal/_model_construction.py:202\u001B[0m, in \u001B[0;36mModelMetaclass.__new__\u001B[0;34m(mcs, cls_name, bases, namespace, __pydantic_generic_metadata__, __pydantic_reset_parent_namespace__, _create_model_module, **kwargs)\u001B[0m\n\u001B[1;32m    199\u001B[0m \u001B[38;5;28;01mif\u001B[39;00m config_wrapper\u001B[38;5;241m.\u001B[39mfrozen \u001B[38;5;129;01mand\u001B[39;00m \u001B[38;5;124m'\u001B[39m\u001B[38;5;124m__hash__\u001B[39m\u001B[38;5;124m'\u001B[39m \u001B[38;5;129;01mnot\u001B[39;00m \u001B[38;5;129;01min\u001B[39;00m namespace:\n\u001B[1;32m    200\u001B[0m     set_default_hash_func(\u001B[38;5;28mcls\u001B[39m, bases)\n\u001B[0;32m--> 202\u001B[0m \u001B[43mcomplete_model_class\u001B[49m\u001B[43m(\u001B[49m\n\u001B[1;32m    203\u001B[0m \u001B[43m    \u001B[49m\u001B[38;5;28;43mcls\u001B[39;49m\u001B[43m,\u001B[49m\n\u001B[1;32m    204\u001B[0m \u001B[43m    \u001B[49m\u001B[43mcls_name\u001B[49m\u001B[43m,\u001B[49m\n\u001B[1;32m    205\u001B[0m \u001B[43m    \u001B[49m\u001B[43mconfig_wrapper\u001B[49m\u001B[43m,\u001B[49m\n\u001B[1;32m    206\u001B[0m \u001B[43m    \u001B[49m\u001B[43mraise_errors\u001B[49m\u001B[38;5;241;43m=\u001B[39;49m\u001B[38;5;28;43;01mFalse\u001B[39;49;00m\u001B[43m,\u001B[49m\n\u001B[1;32m    207\u001B[0m \u001B[43m    \u001B[49m\u001B[43mtypes_namespace\u001B[49m\u001B[38;5;241;43m=\u001B[39;49m\u001B[43mtypes_namespace\u001B[49m\u001B[43m,\u001B[49m\n\u001B[1;32m    208\u001B[0m \u001B[43m    \u001B[49m\u001B[43mcreate_model_module\u001B[49m\u001B[38;5;241;43m=\u001B[39;49m\u001B[43m_create_model_module\u001B[49m\u001B[43m,\u001B[49m\n\u001B[1;32m    209\u001B[0m \u001B[43m\u001B[49m\u001B[43m)\u001B[49m\n\u001B[1;32m    211\u001B[0m \u001B[38;5;66;03m# If this is placed before the complete_model_class call above,\u001B[39;00m\n\u001B[1;32m    212\u001B[0m \u001B[38;5;66;03m# the generic computed fields return type is set to PydanticUndefined\u001B[39;00m\n\u001B[1;32m    213\u001B[0m \u001B[38;5;28mcls\u001B[39m\u001B[38;5;241m.\u001B[39mmodel_computed_fields \u001B[38;5;241m=\u001B[39m {k: v\u001B[38;5;241m.\u001B[39minfo \u001B[38;5;28;01mfor\u001B[39;00m k, v \u001B[38;5;129;01min\u001B[39;00m \u001B[38;5;28mcls\u001B[39m\u001B[38;5;241m.\u001B[39m__pydantic_decorators__\u001B[38;5;241m.\u001B[39mcomputed_fields\u001B[38;5;241m.\u001B[39mitems()}\n",
      "File \u001B[0;32m~/PycharmProjects/renkon/.hatch/renkon/lib/python3.12/site-packages/pydantic/_internal/_model_construction.py:539\u001B[0m, in \u001B[0;36mcomplete_model_class\u001B[0;34m(cls, cls_name, config_wrapper, raise_errors, types_namespace, create_model_module)\u001B[0m\n\u001B[1;32m    536\u001B[0m     \u001B[38;5;28;01mreturn\u001B[39;00m \u001B[38;5;28;01mFalse\u001B[39;00m\n\u001B[1;32m    538\u001B[0m \u001B[38;5;28;01mtry\u001B[39;00m:\n\u001B[0;32m--> 539\u001B[0m     schema \u001B[38;5;241m=\u001B[39m \u001B[38;5;28;43mcls\u001B[39;49m\u001B[38;5;241;43m.\u001B[39;49m\u001B[43m__get_pydantic_core_schema__\u001B[49m\u001B[43m(\u001B[49m\u001B[38;5;28;43mcls\u001B[39;49m\u001B[43m,\u001B[49m\u001B[43m \u001B[49m\u001B[43mhandler\u001B[49m\u001B[43m)\u001B[49m\n\u001B[1;32m    540\u001B[0m \u001B[38;5;28;01mexcept\u001B[39;00m PydanticUndefinedAnnotation \u001B[38;5;28;01mas\u001B[39;00m e:\n\u001B[1;32m    541\u001B[0m     \u001B[38;5;28;01mif\u001B[39;00m raise_errors:\n",
      "File \u001B[0;32m~/PycharmProjects/renkon/.hatch/renkon/lib/python3.12/site-packages/pydantic/main.py:626\u001B[0m, in \u001B[0;36mBaseModel.__get_pydantic_core_schema__\u001B[0;34m(cls, source, handler)\u001B[0m\n\u001B[1;32m    623\u001B[0m     \u001B[38;5;28;01mif\u001B[39;00m \u001B[38;5;129;01mnot\u001B[39;00m \u001B[38;5;28mcls\u001B[39m\u001B[38;5;241m.\u001B[39m__pydantic_generic_metadata__[\u001B[38;5;124m'\u001B[39m\u001B[38;5;124morigin\u001B[39m\u001B[38;5;124m'\u001B[39m]:\n\u001B[1;32m    624\u001B[0m         \u001B[38;5;28;01mreturn\u001B[39;00m \u001B[38;5;28mcls\u001B[39m\u001B[38;5;241m.\u001B[39m__pydantic_core_schema__\n\u001B[0;32m--> 626\u001B[0m \u001B[38;5;28;01mreturn\u001B[39;00m \u001B[43mhandler\u001B[49m\u001B[43m(\u001B[49m\u001B[43msource\u001B[49m\u001B[43m)\u001B[49m\n",
      "File \u001B[0;32m~/PycharmProjects/renkon/.hatch/renkon/lib/python3.12/site-packages/pydantic/_internal/_schema_generation_shared.py:82\u001B[0m, in \u001B[0;36mCallbackGetCoreSchemaHandler.__call__\u001B[0;34m(self, source_type)\u001B[0m\n\u001B[1;32m     81\u001B[0m \u001B[38;5;28;01mdef\u001B[39;00m \u001B[38;5;21m__call__\u001B[39m(\u001B[38;5;28mself\u001B[39m, source_type: Any, \u001B[38;5;241m/\u001B[39m) \u001B[38;5;241m-\u001B[39m\u001B[38;5;241m>\u001B[39m core_schema\u001B[38;5;241m.\u001B[39mCoreSchema:\n\u001B[0;32m---> 82\u001B[0m     schema \u001B[38;5;241m=\u001B[39m \u001B[38;5;28;43mself\u001B[39;49m\u001B[38;5;241;43m.\u001B[39;49m\u001B[43m_handler\u001B[49m\u001B[43m(\u001B[49m\u001B[43msource_type\u001B[49m\u001B[43m)\u001B[49m\n\u001B[1;32m     83\u001B[0m     ref \u001B[38;5;241m=\u001B[39m schema\u001B[38;5;241m.\u001B[39mget(\u001B[38;5;124m'\u001B[39m\u001B[38;5;124mref\u001B[39m\u001B[38;5;124m'\u001B[39m)\n\u001B[1;32m     84\u001B[0m     \u001B[38;5;28;01mif\u001B[39;00m \u001B[38;5;28mself\u001B[39m\u001B[38;5;241m.\u001B[39m_ref_mode \u001B[38;5;241m==\u001B[39m \u001B[38;5;124m'\u001B[39m\u001B[38;5;124mto-def\u001B[39m\u001B[38;5;124m'\u001B[39m:\n",
      "File \u001B[0;32m~/PycharmProjects/renkon/.hatch/renkon/lib/python3.12/site-packages/pydantic/_internal/_generate_schema.py:502\u001B[0m, in \u001B[0;36mGenerateSchema.generate_schema\u001B[0;34m(self, obj, from_dunder_get_core_schema)\u001B[0m\n\u001B[1;32m    499\u001B[0m         schema \u001B[38;5;241m=\u001B[39m from_property\n\u001B[1;32m    501\u001B[0m \u001B[38;5;28;01mif\u001B[39;00m schema \u001B[38;5;129;01mis\u001B[39;00m \u001B[38;5;28;01mNone\u001B[39;00m:\n\u001B[0;32m--> 502\u001B[0m     schema \u001B[38;5;241m=\u001B[39m \u001B[38;5;28;43mself\u001B[39;49m\u001B[38;5;241;43m.\u001B[39;49m\u001B[43m_generate_schema_inner\u001B[49m\u001B[43m(\u001B[49m\u001B[43mobj\u001B[49m\u001B[43m)\u001B[49m\n\u001B[1;32m    504\u001B[0m metadata_js_function \u001B[38;5;241m=\u001B[39m _extract_get_pydantic_json_schema(obj, schema)\n\u001B[1;32m    505\u001B[0m \u001B[38;5;28;01mif\u001B[39;00m metadata_js_function \u001B[38;5;129;01mis\u001B[39;00m \u001B[38;5;129;01mnot\u001B[39;00m \u001B[38;5;28;01mNone\u001B[39;00m:\n",
      "File \u001B[0;32m~/PycharmProjects/renkon/.hatch/renkon/lib/python3.12/site-packages/pydantic/_internal/_generate_schema.py:753\u001B[0m, in \u001B[0;36mGenerateSchema._generate_schema_inner\u001B[0;34m(self, obj)\u001B[0m\n\u001B[1;32m    751\u001B[0m \u001B[38;5;28;01mif\u001B[39;00m lenient_issubclass(obj, BaseModel):\n\u001B[1;32m    752\u001B[0m     \u001B[38;5;28;01mwith\u001B[39;00m \u001B[38;5;28mself\u001B[39m\u001B[38;5;241m.\u001B[39mmodel_type_stack\u001B[38;5;241m.\u001B[39mpush(obj):\n\u001B[0;32m--> 753\u001B[0m         \u001B[38;5;28;01mreturn\u001B[39;00m \u001B[38;5;28;43mself\u001B[39;49m\u001B[38;5;241;43m.\u001B[39;49m\u001B[43m_model_schema\u001B[49m\u001B[43m(\u001B[49m\u001B[43mobj\u001B[49m\u001B[43m)\u001B[49m\n\u001B[1;32m    755\u001B[0m \u001B[38;5;28;01mif\u001B[39;00m \u001B[38;5;28misinstance\u001B[39m(obj, PydanticRecursiveRef):\n\u001B[1;32m    756\u001B[0m     \u001B[38;5;28;01mreturn\u001B[39;00m core_schema\u001B[38;5;241m.\u001B[39mdefinition_reference_schema(schema_ref\u001B[38;5;241m=\u001B[39mobj\u001B[38;5;241m.\u001B[39mtype_ref)\n",
      "File \u001B[0;32m~/PycharmProjects/renkon/.hatch/renkon/lib/python3.12/site-packages/pydantic/_internal/_generate_schema.py:580\u001B[0m, in \u001B[0;36mGenerateSchema._model_schema\u001B[0;34m(self, cls)\u001B[0m\n\u001B[1;32m    568\u001B[0m     model_schema \u001B[38;5;241m=\u001B[39m core_schema\u001B[38;5;241m.\u001B[39mmodel_schema(\n\u001B[1;32m    569\u001B[0m         \u001B[38;5;28mcls\u001B[39m,\n\u001B[1;32m    570\u001B[0m         inner_schema,\n\u001B[0;32m   (...)\u001B[0m\n\u001B[1;32m    576\u001B[0m         metadata\u001B[38;5;241m=\u001B[39mmetadata,\n\u001B[1;32m    577\u001B[0m     )\n\u001B[1;32m    578\u001B[0m \u001B[38;5;28;01melse\u001B[39;00m:\n\u001B[1;32m    579\u001B[0m     fields_schema: core_schema\u001B[38;5;241m.\u001B[39mCoreSchema \u001B[38;5;241m=\u001B[39m core_schema\u001B[38;5;241m.\u001B[39mmodel_fields_schema(\n\u001B[0;32m--> 580\u001B[0m         {k: \u001B[38;5;28;43mself\u001B[39;49m\u001B[38;5;241;43m.\u001B[39;49m\u001B[43m_generate_md_field_schema\u001B[49m\u001B[43m(\u001B[49m\u001B[43mk\u001B[49m\u001B[43m,\u001B[49m\u001B[43m \u001B[49m\u001B[43mv\u001B[49m\u001B[43m,\u001B[49m\u001B[43m \u001B[49m\u001B[43mdecorators\u001B[49m\u001B[43m)\u001B[49m \u001B[38;5;28;01mfor\u001B[39;00m k, v \u001B[38;5;129;01min\u001B[39;00m fields\u001B[38;5;241m.\u001B[39mitems()},\n\u001B[1;32m    581\u001B[0m         computed_fields\u001B[38;5;241m=\u001B[39m[\n\u001B[1;32m    582\u001B[0m             \u001B[38;5;28mself\u001B[39m\u001B[38;5;241m.\u001B[39m_computed_field_schema(d, decorators\u001B[38;5;241m.\u001B[39mfield_serializers)\n\u001B[1;32m    583\u001B[0m             \u001B[38;5;28;01mfor\u001B[39;00m d \u001B[38;5;129;01min\u001B[39;00m computed_fields\u001B[38;5;241m.\u001B[39mvalues()\n\u001B[1;32m    584\u001B[0m         ],\n\u001B[1;32m    585\u001B[0m         extras_schema\u001B[38;5;241m=\u001B[39mextras_schema,\n\u001B[1;32m    586\u001B[0m         model_name\u001B[38;5;241m=\u001B[39m\u001B[38;5;28mcls\u001B[39m\u001B[38;5;241m.\u001B[39m\u001B[38;5;18m__name__\u001B[39m,\n\u001B[1;32m    587\u001B[0m     )\n\u001B[1;32m    588\u001B[0m     inner_schema \u001B[38;5;241m=\u001B[39m apply_validators(fields_schema, decorators\u001B[38;5;241m.\u001B[39mroot_validators\u001B[38;5;241m.\u001B[39mvalues(), \u001B[38;5;28;01mNone\u001B[39;00m)\n\u001B[1;32m    589\u001B[0m     new_inner_schema \u001B[38;5;241m=\u001B[39m define_expected_missing_refs(inner_schema, recursively_defined_type_refs())\n",
      "File \u001B[0;32m~/PycharmProjects/renkon/.hatch/renkon/lib/python3.12/site-packages/pydantic/_internal/_generate_schema.py:916\u001B[0m, in \u001B[0;36mGenerateSchema._generate_md_field_schema\u001B[0;34m(self, name, field_info, decorators)\u001B[0m\n\u001B[1;32m    909\u001B[0m \u001B[38;5;28;01mdef\u001B[39;00m \u001B[38;5;21m_generate_md_field_schema\u001B[39m(\n\u001B[1;32m    910\u001B[0m     \u001B[38;5;28mself\u001B[39m,\n\u001B[1;32m    911\u001B[0m     name: \u001B[38;5;28mstr\u001B[39m,\n\u001B[1;32m    912\u001B[0m     field_info: FieldInfo,\n\u001B[1;32m    913\u001B[0m     decorators: DecoratorInfos,\n\u001B[1;32m    914\u001B[0m ) \u001B[38;5;241m-\u001B[39m\u001B[38;5;241m>\u001B[39m core_schema\u001B[38;5;241m.\u001B[39mModelField:\n\u001B[1;32m    915\u001B[0m \u001B[38;5;250m    \u001B[39m\u001B[38;5;124;03m\"\"\"Prepare a ModelField to represent a model field.\"\"\"\u001B[39;00m\n\u001B[0;32m--> 916\u001B[0m     common_field \u001B[38;5;241m=\u001B[39m \u001B[38;5;28;43mself\u001B[39;49m\u001B[38;5;241;43m.\u001B[39;49m\u001B[43m_common_field_schema\u001B[49m\u001B[43m(\u001B[49m\u001B[43mname\u001B[49m\u001B[43m,\u001B[49m\u001B[43m \u001B[49m\u001B[43mfield_info\u001B[49m\u001B[43m,\u001B[49m\u001B[43m \u001B[49m\u001B[43mdecorators\u001B[49m\u001B[43m)\u001B[49m\n\u001B[1;32m    917\u001B[0m     \u001B[38;5;28;01mreturn\u001B[39;00m core_schema\u001B[38;5;241m.\u001B[39mmodel_field(\n\u001B[1;32m    918\u001B[0m         common_field[\u001B[38;5;124m'\u001B[39m\u001B[38;5;124mschema\u001B[39m\u001B[38;5;124m'\u001B[39m],\n\u001B[1;32m    919\u001B[0m         serialization_exclude\u001B[38;5;241m=\u001B[39mcommon_field[\u001B[38;5;124m'\u001B[39m\u001B[38;5;124mserialization_exclude\u001B[39m\u001B[38;5;124m'\u001B[39m],\n\u001B[0;32m   (...)\u001B[0m\n\u001B[1;32m    923\u001B[0m         metadata\u001B[38;5;241m=\u001B[39mcommon_field[\u001B[38;5;124m'\u001B[39m\u001B[38;5;124mmetadata\u001B[39m\u001B[38;5;124m'\u001B[39m],\n\u001B[1;32m    924\u001B[0m     )\n",
      "File \u001B[0;32m~/PycharmProjects/renkon/.hatch/renkon/lib/python3.12/site-packages/pydantic/_internal/_generate_schema.py:1081\u001B[0m, in \u001B[0;36mGenerateSchema._common_field_schema\u001B[0;34m(self, name, field_info, decorators)\u001B[0m\n\u001B[1;32m   1079\u001B[0m         schema \u001B[38;5;241m=\u001B[39m \u001B[38;5;28mself\u001B[39m\u001B[38;5;241m.\u001B[39m_apply_annotations(source_type, annotations, transform_inner_schema\u001B[38;5;241m=\u001B[39mset_discriminator)\n\u001B[1;32m   1080\u001B[0m     \u001B[38;5;28;01melse\u001B[39;00m:\n\u001B[0;32m-> 1081\u001B[0m         schema \u001B[38;5;241m=\u001B[39m \u001B[38;5;28;43mself\u001B[39;49m\u001B[38;5;241;43m.\u001B[39;49m\u001B[43m_apply_annotations\u001B[49m\u001B[43m(\u001B[49m\n\u001B[1;32m   1082\u001B[0m \u001B[43m            \u001B[49m\u001B[43msource_type\u001B[49m\u001B[43m,\u001B[49m\n\u001B[1;32m   1083\u001B[0m \u001B[43m            \u001B[49m\u001B[43mannotations\u001B[49m\u001B[43m,\u001B[49m\n\u001B[1;32m   1084\u001B[0m \u001B[43m        \u001B[49m\u001B[43m)\u001B[49m\n\u001B[1;32m   1086\u001B[0m \u001B[38;5;66;03m# This V1 compatibility shim should eventually be removed\u001B[39;00m\n\u001B[1;32m   1087\u001B[0m \u001B[38;5;66;03m# push down any `each_item=True` validators\u001B[39;00m\n\u001B[1;32m   1088\u001B[0m \u001B[38;5;66;03m# note that this won't work for any Annotated types that get wrapped by a function validator\u001B[39;00m\n\u001B[1;32m   1089\u001B[0m \u001B[38;5;66;03m# but that's okay because that didn't exist in V1\u001B[39;00m\n\u001B[1;32m   1090\u001B[0m this_field_validators \u001B[38;5;241m=\u001B[39m filter_field_decorator_info_by_field(decorators\u001B[38;5;241m.\u001B[39mvalidators\u001B[38;5;241m.\u001B[39mvalues(), name)\n",
      "File \u001B[0;32m~/PycharmProjects/renkon/.hatch/renkon/lib/python3.12/site-packages/pydantic/_internal/_generate_schema.py:1825\u001B[0m, in \u001B[0;36mGenerateSchema._apply_annotations\u001B[0;34m(self, source_type, annotations, transform_inner_schema)\u001B[0m\n\u001B[1;32m   1820\u001B[0m         \u001B[38;5;28;01mcontinue\u001B[39;00m\n\u001B[1;32m   1821\u001B[0m     get_inner_schema \u001B[38;5;241m=\u001B[39m \u001B[38;5;28mself\u001B[39m\u001B[38;5;241m.\u001B[39m_get_wrapped_inner_schema(\n\u001B[1;32m   1822\u001B[0m         get_inner_schema, annotation, pydantic_js_annotation_functions\n\u001B[1;32m   1823\u001B[0m     )\n\u001B[0;32m-> 1825\u001B[0m schema \u001B[38;5;241m=\u001B[39m \u001B[43mget_inner_schema\u001B[49m\u001B[43m(\u001B[49m\u001B[43msource_type\u001B[49m\u001B[43m)\u001B[49m\n\u001B[1;32m   1826\u001B[0m \u001B[38;5;28;01mif\u001B[39;00m pydantic_js_annotation_functions:\n\u001B[1;32m   1827\u001B[0m     metadata \u001B[38;5;241m=\u001B[39m CoreMetadataHandler(schema)\u001B[38;5;241m.\u001B[39mmetadata\n",
      "File \u001B[0;32m~/PycharmProjects/renkon/.hatch/renkon/lib/python3.12/site-packages/pydantic/_internal/_schema_generation_shared.py:82\u001B[0m, in \u001B[0;36mCallbackGetCoreSchemaHandler.__call__\u001B[0;34m(self, source_type)\u001B[0m\n\u001B[1;32m     81\u001B[0m \u001B[38;5;28;01mdef\u001B[39;00m \u001B[38;5;21m__call__\u001B[39m(\u001B[38;5;28mself\u001B[39m, source_type: Any, \u001B[38;5;241m/\u001B[39m) \u001B[38;5;241m-\u001B[39m\u001B[38;5;241m>\u001B[39m core_schema\u001B[38;5;241m.\u001B[39mCoreSchema:\n\u001B[0;32m---> 82\u001B[0m     schema \u001B[38;5;241m=\u001B[39m \u001B[38;5;28;43mself\u001B[39;49m\u001B[38;5;241;43m.\u001B[39;49m\u001B[43m_handler\u001B[49m\u001B[43m(\u001B[49m\u001B[43msource_type\u001B[49m\u001B[43m)\u001B[49m\n\u001B[1;32m     83\u001B[0m     ref \u001B[38;5;241m=\u001B[39m schema\u001B[38;5;241m.\u001B[39mget(\u001B[38;5;124m'\u001B[39m\u001B[38;5;124mref\u001B[39m\u001B[38;5;124m'\u001B[39m)\n\u001B[1;32m     84\u001B[0m     \u001B[38;5;28;01mif\u001B[39;00m \u001B[38;5;28mself\u001B[39m\u001B[38;5;241m.\u001B[39m_ref_mode \u001B[38;5;241m==\u001B[39m \u001B[38;5;124m'\u001B[39m\u001B[38;5;124mto-def\u001B[39m\u001B[38;5;124m'\u001B[39m:\n",
      "File \u001B[0;32m~/PycharmProjects/renkon/.hatch/renkon/lib/python3.12/site-packages/pydantic/_internal/_generate_schema.py:1907\u001B[0m, in \u001B[0;36mGenerateSchema._get_wrapped_inner_schema.<locals>.new_handler\u001B[0;34m(source)\u001B[0m\n\u001B[1;32m   1906\u001B[0m \u001B[38;5;28;01mdef\u001B[39;00m \u001B[38;5;21mnew_handler\u001B[39m(source: Any) \u001B[38;5;241m-\u001B[39m\u001B[38;5;241m>\u001B[39m core_schema\u001B[38;5;241m.\u001B[39mCoreSchema:\n\u001B[0;32m-> 1907\u001B[0m     schema \u001B[38;5;241m=\u001B[39m \u001B[43mmetadata_get_schema\u001B[49m\u001B[43m(\u001B[49m\u001B[43msource\u001B[49m\u001B[43m,\u001B[49m\u001B[43m \u001B[49m\u001B[43mget_inner_schema\u001B[49m\u001B[43m)\u001B[49m\n\u001B[1;32m   1908\u001B[0m     schema \u001B[38;5;241m=\u001B[39m \u001B[38;5;28mself\u001B[39m\u001B[38;5;241m.\u001B[39m_apply_single_annotation(schema, annotation)\n\u001B[1;32m   1909\u001B[0m     schema \u001B[38;5;241m=\u001B[39m \u001B[38;5;28mself\u001B[39m\u001B[38;5;241m.\u001B[39m_apply_single_annotation_json_schema(schema, annotation)\n",
      "File \u001B[0;32m~/PycharmProjects/renkon/.hatch/renkon/lib/python3.12/site-packages/pydantic/_internal/_generate_schema.py:1903\u001B[0m, in \u001B[0;36mGenerateSchema._get_wrapped_inner_schema.<locals>.<lambda>\u001B[0;34m(source, handler)\u001B[0m\n\u001B[1;32m   1896\u001B[0m \u001B[38;5;28;01mdef\u001B[39;00m \u001B[38;5;21m_get_wrapped_inner_schema\u001B[39m(\n\u001B[1;32m   1897\u001B[0m     \u001B[38;5;28mself\u001B[39m,\n\u001B[1;32m   1898\u001B[0m     get_inner_schema: GetCoreSchemaHandler,\n\u001B[1;32m   1899\u001B[0m     annotation: Any,\n\u001B[1;32m   1900\u001B[0m     pydantic_js_annotation_functions: \u001B[38;5;28mlist\u001B[39m[GetJsonSchemaFunction],\n\u001B[1;32m   1901\u001B[0m ) \u001B[38;5;241m-\u001B[39m\u001B[38;5;241m>\u001B[39m CallbackGetCoreSchemaHandler:\n\u001B[1;32m   1902\u001B[0m     metadata_get_schema: GetCoreSchemaFunction \u001B[38;5;241m=\u001B[39m \u001B[38;5;28mgetattr\u001B[39m(annotation, \u001B[38;5;124m'\u001B[39m\u001B[38;5;124m__get_pydantic_core_schema__\u001B[39m\u001B[38;5;124m'\u001B[39m, \u001B[38;5;28;01mNone\u001B[39;00m) \u001B[38;5;129;01mor\u001B[39;00m (\n\u001B[0;32m-> 1903\u001B[0m         \u001B[38;5;28;01mlambda\u001B[39;00m source, handler: \u001B[43mhandler\u001B[49m\u001B[43m(\u001B[49m\u001B[43msource\u001B[49m\u001B[43m)\u001B[49m\n\u001B[1;32m   1904\u001B[0m     )\n\u001B[1;32m   1906\u001B[0m     \u001B[38;5;28;01mdef\u001B[39;00m \u001B[38;5;21mnew_handler\u001B[39m(source: Any) \u001B[38;5;241m-\u001B[39m\u001B[38;5;241m>\u001B[39m core_schema\u001B[38;5;241m.\u001B[39mCoreSchema:\n\u001B[1;32m   1907\u001B[0m         schema \u001B[38;5;241m=\u001B[39m metadata_get_schema(source, get_inner_schema)\n",
      "File \u001B[0;32m~/PycharmProjects/renkon/.hatch/renkon/lib/python3.12/site-packages/pydantic/_internal/_schema_generation_shared.py:82\u001B[0m, in \u001B[0;36mCallbackGetCoreSchemaHandler.__call__\u001B[0;34m(self, source_type)\u001B[0m\n\u001B[1;32m     81\u001B[0m \u001B[38;5;28;01mdef\u001B[39;00m \u001B[38;5;21m__call__\u001B[39m(\u001B[38;5;28mself\u001B[39m, source_type: Any, \u001B[38;5;241m/\u001B[39m) \u001B[38;5;241m-\u001B[39m\u001B[38;5;241m>\u001B[39m core_schema\u001B[38;5;241m.\u001B[39mCoreSchema:\n\u001B[0;32m---> 82\u001B[0m     schema \u001B[38;5;241m=\u001B[39m \u001B[38;5;28;43mself\u001B[39;49m\u001B[38;5;241;43m.\u001B[39;49m\u001B[43m_handler\u001B[49m\u001B[43m(\u001B[49m\u001B[43msource_type\u001B[49m\u001B[43m)\u001B[49m\n\u001B[1;32m     83\u001B[0m     ref \u001B[38;5;241m=\u001B[39m schema\u001B[38;5;241m.\u001B[39mget(\u001B[38;5;124m'\u001B[39m\u001B[38;5;124mref\u001B[39m\u001B[38;5;124m'\u001B[39m)\n\u001B[1;32m     84\u001B[0m     \u001B[38;5;28;01mif\u001B[39;00m \u001B[38;5;28mself\u001B[39m\u001B[38;5;241m.\u001B[39m_ref_mode \u001B[38;5;241m==\u001B[39m \u001B[38;5;124m'\u001B[39m\u001B[38;5;124mto-def\u001B[39m\u001B[38;5;124m'\u001B[39m:\n",
      "File \u001B[0;32m~/PycharmProjects/renkon/.hatch/renkon/lib/python3.12/site-packages/pydantic/_internal/_generate_schema.py:1806\u001B[0m, in \u001B[0;36mGenerateSchema._apply_annotations.<locals>.inner_handler\u001B[0;34m(obj)\u001B[0m\n\u001B[1;32m   1804\u001B[0m from_property \u001B[38;5;241m=\u001B[39m \u001B[38;5;28mself\u001B[39m\u001B[38;5;241m.\u001B[39m_generate_schema_from_property(obj, obj)\n\u001B[1;32m   1805\u001B[0m \u001B[38;5;28;01mif\u001B[39;00m from_property \u001B[38;5;129;01mis\u001B[39;00m \u001B[38;5;28;01mNone\u001B[39;00m:\n\u001B[0;32m-> 1806\u001B[0m     schema \u001B[38;5;241m=\u001B[39m \u001B[38;5;28;43mself\u001B[39;49m\u001B[38;5;241;43m.\u001B[39;49m\u001B[43m_generate_schema_inner\u001B[49m\u001B[43m(\u001B[49m\u001B[43mobj\u001B[49m\u001B[43m)\u001B[49m\n\u001B[1;32m   1807\u001B[0m \u001B[38;5;28;01melse\u001B[39;00m:\n\u001B[1;32m   1808\u001B[0m     schema \u001B[38;5;241m=\u001B[39m from_property\n",
      "File \u001B[0;32m~/PycharmProjects/renkon/.hatch/renkon/lib/python3.12/site-packages/pydantic/_internal/_generate_schema.py:758\u001B[0m, in \u001B[0;36mGenerateSchema._generate_schema_inner\u001B[0;34m(self, obj)\u001B[0m\n\u001B[1;32m    755\u001B[0m \u001B[38;5;28;01mif\u001B[39;00m \u001B[38;5;28misinstance\u001B[39m(obj, PydanticRecursiveRef):\n\u001B[1;32m    756\u001B[0m     \u001B[38;5;28;01mreturn\u001B[39;00m core_schema\u001B[38;5;241m.\u001B[39mdefinition_reference_schema(schema_ref\u001B[38;5;241m=\u001B[39mobj\u001B[38;5;241m.\u001B[39mtype_ref)\n\u001B[0;32m--> 758\u001B[0m \u001B[38;5;28;01mreturn\u001B[39;00m \u001B[38;5;28;43mself\u001B[39;49m\u001B[38;5;241;43m.\u001B[39;49m\u001B[43mmatch_type\u001B[49m\u001B[43m(\u001B[49m\u001B[43mobj\u001B[49m\u001B[43m)\u001B[49m\n",
      "File \u001B[0;32m~/PycharmProjects/renkon/.hatch/renkon/lib/python3.12/site-packages/pydantic/_internal/_generate_schema.py:844\u001B[0m, in \u001B[0;36mGenerateSchema.match_type\u001B[0;34m(self, obj)\u001B[0m\n\u001B[1;32m    842\u001B[0m \u001B[38;5;28;01mif\u001B[39;00m \u001B[38;5;28mself\u001B[39m\u001B[38;5;241m.\u001B[39m_arbitrary_types:\n\u001B[1;32m    843\u001B[0m     \u001B[38;5;28;01mreturn\u001B[39;00m \u001B[38;5;28mself\u001B[39m\u001B[38;5;241m.\u001B[39m_arbitrary_type_schema(obj)\n\u001B[0;32m--> 844\u001B[0m \u001B[38;5;28;01mreturn\u001B[39;00m \u001B[38;5;28;43mself\u001B[39;49m\u001B[38;5;241;43m.\u001B[39;49m\u001B[43m_unknown_type_schema\u001B[49m\u001B[43m(\u001B[49m\u001B[43mobj\u001B[49m\u001B[43m)\u001B[49m\n",
      "File \u001B[0;32m~/PycharmProjects/renkon/.hatch/renkon/lib/python3.12/site-packages/pydantic/_internal/_generate_schema.py:405\u001B[0m, in \u001B[0;36mGenerateSchema._unknown_type_schema\u001B[0;34m(self, obj)\u001B[0m\n\u001B[1;32m    404\u001B[0m \u001B[38;5;28;01mdef\u001B[39;00m \u001B[38;5;21m_unknown_type_schema\u001B[39m(\u001B[38;5;28mself\u001B[39m, obj: Any) \u001B[38;5;241m-\u001B[39m\u001B[38;5;241m>\u001B[39m CoreSchema:\n\u001B[0;32m--> 405\u001B[0m     \u001B[38;5;28;01mraise\u001B[39;00m PydanticSchemaGenerationError(\n\u001B[1;32m    406\u001B[0m         \u001B[38;5;124mf\u001B[39m\u001B[38;5;124m'\u001B[39m\u001B[38;5;124mUnable to generate pydantic-core schema for \u001B[39m\u001B[38;5;132;01m{\u001B[39;00mobj\u001B[38;5;132;01m!r}\u001B[39;00m\u001B[38;5;124m. \u001B[39m\u001B[38;5;124m'\u001B[39m\n\u001B[1;32m    407\u001B[0m         \u001B[38;5;124m'\u001B[39m\u001B[38;5;124mSet `arbitrary_types_allowed=True` in the model_config to ignore this error\u001B[39m\u001B[38;5;124m'\u001B[39m\n\u001B[1;32m    408\u001B[0m         \u001B[38;5;124m'\u001B[39m\u001B[38;5;124m or implement `__get_pydantic_core_schema__` on your type to fully support it.\u001B[39m\u001B[38;5;124m'\u001B[39m\n\u001B[1;32m    409\u001B[0m         \u001B[38;5;124m'\u001B[39m\u001B[38;5;130;01m\\n\u001B[39;00m\u001B[38;5;130;01m\\n\u001B[39;00m\u001B[38;5;124mIf you got this error by calling handler(<some type>) within\u001B[39m\u001B[38;5;124m'\u001B[39m\n\u001B[1;32m    410\u001B[0m         \u001B[38;5;124m'\u001B[39m\u001B[38;5;124m `__get_pydantic_core_schema__` then you likely need to call\u001B[39m\u001B[38;5;124m'\u001B[39m\n\u001B[1;32m    411\u001B[0m         \u001B[38;5;124m'\u001B[39m\u001B[38;5;124m `handler.generate_schema(<some type>)` since we do not call\u001B[39m\u001B[38;5;124m'\u001B[39m\n\u001B[1;32m    412\u001B[0m         \u001B[38;5;124m'\u001B[39m\u001B[38;5;124m `__get_pydantic_core_schema__` on `<some type>` otherwise to avoid infinite recursion.\u001B[39m\u001B[38;5;124m'\u001B[39m\n\u001B[1;32m    413\u001B[0m     )\n",
      "\u001B[0;31mPydanticSchemaGenerationError\u001B[0m: Unable to generate pydantic-core schema for <class 'polars.series.series.Series'>. Set `arbitrary_types_allowed=True` in the model_config to ignore this error or implement `__get_pydantic_core_schema__` on your type to fully support it.\n\nIf you got this error by calling handler(<some type>) within `__get_pydantic_core_schema__` then you likely need to call `handler.generate_schema(<some type>)` since we do not call `__get_pydantic_core_schema__` on `<some type>` otherwise to avoid infinite recursion.\n\nFor further information visit https://errors.pydantic.dev/2.7/u/schema-for-unknown-type"
     ]
    }
   ],
   "execution_count": 1
  },
  {
   "metadata": {
    "ExecuteTime": {
     "end_time": "2024-06-26T16:31:28.505596Z",
     "start_time": "2024-06-26T16:31:28.505538Z"
    }
   },
   "cell_type": "code",
   "source": [
    "import polars as pl\n",
    "import pyarrow as pa\n",
    "from polars import Series\n",
    "from bitarray import bitarray, frozenbitarray"
   ],
   "id": "d8225dfd7af7c5e6",
   "outputs": [],
   "execution_count": null
  },
  {
   "metadata": {
    "ExecuteTime": {
     "end_time": "2024-06-26T16:34:38.408289Z",
     "start_time": "2024-06-26T16:34:38.405076Z"
    }
   },
   "cell_type": "code",
   "source": "b = bytes(\"hello\", \"utf-8\")",
   "id": "e7d818a409f6b8a",
   "outputs": [],
   "execution_count": 9
  },
  {
   "metadata": {},
   "cell_type": "code",
   "source": "Series(b, dtype=pl.Boolean).dtype.is_(pl.Boolean)",
   "id": "6bf9925e9419d32e",
   "outputs": [],
   "execution_count": null
  },
  {
   "metadata": {},
   "cell_type": "code",
   "source": "bitarray.frombytes",
   "id": "662a6f34834f2f52",
   "outputs": [],
   "execution_count": null
  },
  {
   "metadata": {},
   "cell_type": "code",
   "source": "frozenbitarray(b)",
   "id": "bd9160bb1720d3e1",
   "outputs": [],
   "execution_count": null
  },
  {
   "metadata": {},
   "cell_type": "code",
   "source": "a.to",
   "id": "274f70cc671cb037",
   "outputs": [],
   "execution_count": null
  },
  {
   "metadata": {},
   "cell_type": "code",
   "source": "a.tobytes()",
   "id": "b8ee83703265a3bb",
   "outputs": [],
   "execution_count": null
  },
  {
   "metadata": {},
   "cell_type": "code",
   "source": "b",
   "id": "a26a50dd3508c401",
   "outputs": [],
   "execution_count": null
  },
  {
   "metadata": {},
   "cell_type": "code",
   "source": "pl.from_arrow(b)",
   "id": "9112c7a01eda7e5c",
   "outputs": [],
   "execution_count": null
  },
  {
   "metadata": {},
   "cell_type": "code",
   "source": "pa.BooleanArray",
   "id": "fbf63c3cc35f8065",
   "outputs": [],
   "execution_count": null
  },
  {
   "metadata": {},
   "cell_type": "code",
   "source": "Series([0, 1, 0, 1, 1, 0])",
   "id": "3755632d8da5d20",
   "outputs": [],
   "execution_count": null
  },
  {
   "metadata": {},
   "cell_type": "code",
   "source": "pa.array(b, type=pa.bool_())",
   "id": "c2d2863bf067e6b0",
   "outputs": [],
   "execution_count": null
  },
  {
   "metadata": {
    "ExecuteTime": {
     "end_time": "2024-06-26T17:31:25.144024Z",
     "start_time": "2024-06-26T17:31:25.141781Z"
    }
   },
   "cell_type": "code",
   "source": [
    "import pyarrow as pa\n",
    "import polars as pl\n",
    "\n",
    "buf = pa.py_buffer(b\"hello world 123\")"
   ],
   "id": "f58580e18905f95f",
   "outputs": [],
   "execution_count": 42
  },
  {
   "metadata": {
    "ExecuteTime": {
     "end_time": "2024-06-26T16:32:58.408996Z",
     "start_time": "2024-06-26T16:32:58.396438Z"
    }
   },
   "cell_type": "code",
   "source": [
    "reader = pa.RecordBatchStreamReader(buf)\n",
    "batch = reader.read_next_batch()"
   ],
   "id": "19e3fdedf929a630",
   "outputs": [
    {
     "ename": "ArrowInvalid",
     "evalue": "Expected to read 1819043176 metadata bytes, but only read 11",
     "output_type": "error",
     "traceback": [
      "\u001B[0;31m---------------------------------------------------------------------------\u001B[0m",
      "\u001B[0;31mArrowInvalid\u001B[0m                              Traceback (most recent call last)",
      "Cell \u001B[0;32mIn[7], line 1\u001B[0m\n\u001B[0;32m----> 1\u001B[0m reader \u001B[38;5;241m=\u001B[39m \u001B[43mpa\u001B[49m\u001B[38;5;241;43m.\u001B[39;49m\u001B[43mRecordBatchStreamReader\u001B[49m\u001B[43m(\u001B[49m\u001B[43mbuf\u001B[49m\u001B[43m)\u001B[49m\n\u001B[1;32m      2\u001B[0m batch \u001B[38;5;241m=\u001B[39m reader\u001B[38;5;241m.\u001B[39mread_next_batch()\n",
      "File \u001B[0;32m~/PycharmProjects/renkon/.hatch/renkon/lib/python3.12/site-packages/pyarrow/ipc.py:52\u001B[0m, in \u001B[0;36mRecordBatchStreamReader.__init__\u001B[0;34m(self, source, options, memory_pool)\u001B[0m\n\u001B[1;32m     50\u001B[0m \u001B[38;5;28;01mdef\u001B[39;00m \u001B[38;5;21m__init__\u001B[39m(\u001B[38;5;28mself\u001B[39m, source, \u001B[38;5;241m*\u001B[39m, options\u001B[38;5;241m=\u001B[39m\u001B[38;5;28;01mNone\u001B[39;00m, memory_pool\u001B[38;5;241m=\u001B[39m\u001B[38;5;28;01mNone\u001B[39;00m):\n\u001B[1;32m     51\u001B[0m     options \u001B[38;5;241m=\u001B[39m _ensure_default_ipc_read_options(options)\n\u001B[0;32m---> 52\u001B[0m     \u001B[38;5;28;43mself\u001B[39;49m\u001B[38;5;241;43m.\u001B[39;49m\u001B[43m_open\u001B[49m\u001B[43m(\u001B[49m\u001B[43msource\u001B[49m\u001B[43m,\u001B[49m\u001B[43m \u001B[49m\u001B[43moptions\u001B[49m\u001B[38;5;241;43m=\u001B[39;49m\u001B[43moptions\u001B[49m\u001B[43m,\u001B[49m\u001B[43m \u001B[49m\u001B[43mmemory_pool\u001B[49m\u001B[38;5;241;43m=\u001B[39;49m\u001B[43mmemory_pool\u001B[49m\u001B[43m)\u001B[49m\n",
      "File \u001B[0;32m~/PycharmProjects/renkon/.hatch/renkon/lib/python3.12/site-packages/pyarrow/ipc.pxi:1001\u001B[0m, in \u001B[0;36mpyarrow.lib._RecordBatchStreamReader._open\u001B[0;34m()\u001B[0m\n",
      "File \u001B[0;32m~/PycharmProjects/renkon/.hatch/renkon/lib/python3.12/site-packages/pyarrow/error.pxi:154\u001B[0m, in \u001B[0;36mpyarrow.lib.pyarrow_internal_check_status\u001B[0;34m()\u001B[0m\n",
      "File \u001B[0;32m~/PycharmProjects/renkon/.hatch/renkon/lib/python3.12/site-packages/pyarrow/error.pxi:91\u001B[0m, in \u001B[0;36mpyarrow.lib.check_status\u001B[0;34m()\u001B[0m\n",
      "\u001B[0;31mArrowInvalid\u001B[0m: Expected to read 1819043176 metadata bytes, but only read 11"
     ]
    }
   ],
   "execution_count": 7
  },
  {
   "metadata": {
    "ExecuteTime": {
     "end_time": "2024-06-26T16:34:46.363205Z",
     "start_time": "2024-06-26T16:34:46.361369Z"
    }
   },
   "cell_type": "code",
   "source": [
    "buf = memoryview(b)\n",
    "pa.Array.from_buffers(pa.bool_(), 6, [None, buf])"
   ],
   "id": "82fd2e4b64a1fdfe",
   "outputs": [],
   "execution_count": 11
  },
  {
   "metadata": {
    "ExecuteTime": {
     "end_time": "2024-06-26T17:31:00.145679Z",
     "start_time": "2024-06-26T17:31:00.142341Z"
    }
   },
   "cell_type": "code",
   "source": "b = b\"\\1\\1\\1\\1\"",
   "id": "1a5cef6038cea602",
   "outputs": [],
   "execution_count": 36
  },
  {
   "metadata": {
    "ExecuteTime": {
     "end_time": "2024-06-26T17:31:01.099028Z",
     "start_time": "2024-06-26T17:31:01.095235Z"
    }
   },
   "cell_type": "code",
   "source": "b",
   "id": "b7a4a1d066eaf75b",
   "outputs": [
    {
     "data": {
      "text/plain": [
       "b'\\x01\\x01\\x01\\x01'"
      ]
     },
     "execution_count": 37,
     "metadata": {},
     "output_type": "execute_result"
    }
   ],
   "execution_count": 37
  },
  {
   "metadata": {
    "ExecuteTime": {
     "end_time": "2024-06-26T17:31:26.281936Z",
     "start_time": "2024-06-26T17:31:26.259120Z"
    }
   },
   "cell_type": "code",
   "source": [
    "buf = pa.py_buffer(b)\n",
    "arr = pa.Array.from_buffers(pa.bool_(), 32, [None, buf])\n",
    "s = pl.Series(\"a\", arr)"
   ],
   "id": "f3e705ed292ea34b",
   "outputs": [],
   "execution_count": 43
  },
  {
   "metadata": {
    "ExecuteTime": {
     "end_time": "2024-06-26T17:31:27.668134Z",
     "start_time": "2024-06-26T17:31:27.664585Z"
    }
   },
   "cell_type": "code",
   "source": "s",
   "id": "9f494c1e1f311d8c",
   "outputs": [
    {
     "data": {
      "text/plain": [
       "shape: (32,)\n",
       "Series: 'a' [bool]\n",
       "[\n",
       "\ttrue\n",
       "\tfalse\n",
       "\tfalse\n",
       "\tfalse\n",
       "\tfalse\n",
       "\t…\n",
       "\tfalse\n",
       "\tfalse\n",
       "\tfalse\n",
       "\tfalse\n",
       "\tfalse\n",
       "]"
      ],
      "text/html": [
       "<div><style>\n",
       ".dataframe > thead > tr,\n",
       ".dataframe > tbody > tr {\n",
       "  text-align: right;\n",
       "  white-space: pre-wrap;\n",
       "}\n",
       "</style>\n",
       "<small>shape: (32,)</small><table border=\"1\" class=\"dataframe\"><thead><tr><th>a</th></tr><tr><td>bool</td></tr></thead><tbody><tr><td>true</td></tr><tr><td>false</td></tr><tr><td>false</td></tr><tr><td>false</td></tr><tr><td>false</td></tr><tr><td>&hellip;</td></tr><tr><td>false</td></tr><tr><td>false</td></tr><tr><td>false</td></tr><tr><td>false</td></tr><tr><td>false</td></tr></tbody></table></div>"
      ]
     },
     "execution_count": 44,
     "metadata": {},
     "output_type": "execute_result"
    }
   ],
   "execution_count": 44
  },
  {
   "metadata": {
    "ExecuteTime": {
     "end_time": "2024-06-26T17:40:52.295777Z",
     "start_time": "2024-06-26T17:40:52.293246Z"
    }
   },
   "cell_type": "code",
   "source": "s.to_arrow().buffers()[1].to_pybytes()",
   "id": "f3f488ac547f5dfc",
   "outputs": [
    {
     "data": {
      "text/plain": [
       "b'\\x01\\x01\\x01\\x01'"
      ]
     },
     "execution_count": 47,
     "metadata": {},
     "output_type": "execute_result"
    }
   ],
   "execution_count": 47
  },
  {
   "metadata": {
    "ExecuteTime": {
     "end_time": "2024-06-26T23:17:33.354267Z",
     "start_time": "2024-06-26T23:17:33.350010Z"
    }
   },
   "cell_type": "code",
   "source": "from polars import datatypes as pldt",
   "id": "fb841b978d9866de",
   "outputs": [],
   "execution_count": 48
  },
  {
   "metadata": {
    "ExecuteTime": {
     "end_time": "2024-06-26T23:17:38.107164Z",
     "start_time": "2024-06-26T23:17:38.104569Z"
    }
   },
   "cell_type": "code",
   "source": "pldt.",
   "id": "f76be8a955603aaf",
   "outputs": [
    {
     "data": {
      "text/plain": [
       "'Int64'"
      ]
     },
     "execution_count": 49,
     "metadata": {},
     "output_type": "execute_result"
    }
   ],
   "execution_count": 49
  },
  {
   "metadata": {},
   "cell_type": "code",
   "outputs": [],
   "execution_count": null,
   "source": "",
   "id": "827aceb38e3f39ef"
  }
 ],
 "metadata": {
  "kernelspec": {
   "display_name": "Python 3 (ipykernel)",
   "language": "python",
   "name": "python3"
  },
  "language_info": {
   "codemirror_mode": {
    "name": "ipython",
    "version": 3
   },
   "file_extension": ".py",
   "mimetype": "text/x-python",
   "name": "python",
   "nbconvert_exporter": "python",
   "pygments_lexer": "ipython3",
   "version": "3.12.1"
  }
 },
 "nbformat": 4,
 "nbformat_minor": 5
}
