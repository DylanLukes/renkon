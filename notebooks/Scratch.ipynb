{
 "cells": [
  {
   "cell_type": "code",
   "id": "e87254d4-7d8f-4fb5-b761-9daa7aec236d",
   "metadata": {
    "ExecuteTime": {
     "end_time": "2024-05-28T23:10:49.895659Z",
     "start_time": "2024-05-28T23:10:49.892226Z"
    }
   },
   "source": "from string import Formatter",
   "outputs": [],
   "execution_count": 1
  },
  {
   "metadata": {
    "ExecuteTime": {
     "end_time": "2024-05-28T23:12:27.303453Z",
     "start_time": "2024-05-28T23:12:27.301367Z"
    }
   },
   "cell_type": "code",
   "source": "fmt = Formatter()",
   "id": "5828e0e2e7636988",
   "outputs": [],
   "execution_count": 4
  },
  {
   "metadata": {
    "ExecuteTime": {
     "end_time": "2024-05-28T23:13:49.064993Z",
     "start_time": "2024-05-28T23:13:49.062166Z"
    }
   },
   "cell_type": "code",
   "source": "list(fmt.parse(\"{x!r:.2f} {y} {z}\"))",
   "id": "2d454785f9f35fd3",
   "outputs": [
    {
     "data": {
      "text/plain": [
       "[('', 'x', '.2f', 'r'), (' ', 'y', '', None), (' ', 'z', '', None)]"
      ]
     },
     "execution_count": 12,
     "metadata": {},
     "output_type": "execute_result"
    }
   ],
   "execution_count": 12
  },
  {
   "metadata": {
    "ExecuteTime": {
     "end_time": "2024-05-28T23:17:31.260794Z",
     "start_time": "2024-05-28T23:17:31.250383Z"
    }
   },
   "cell_type": "code",
   "source": "next(fmt.parse(\"{x\"))",
   "id": "24898fe93096dff5",
   "outputs": [
    {
     "ename": "ValueError",
     "evalue": "expected '}' before end of string",
     "output_type": "error",
     "traceback": [
      "\u001B[0;31m---------------------------------------------------------------------------\u001B[0m",
      "\u001B[0;31mValueError\u001B[0m                                Traceback (most recent call last)",
      "Cell \u001B[0;32mIn[15], line 1\u001B[0m\n\u001B[0;32m----> 1\u001B[0m \u001B[38;5;28;43mnext\u001B[39;49m\u001B[43m(\u001B[49m\u001B[43mfmt\u001B[49m\u001B[38;5;241;43m.\u001B[39;49m\u001B[43mparse\u001B[49m\u001B[43m(\u001B[49m\u001B[38;5;124;43m\"\u001B[39;49m\u001B[38;5;124;43m{\u001B[39;49m\u001B[38;5;124;43mx\u001B[39;49m\u001B[38;5;124;43m\"\u001B[39;49m\u001B[43m)\u001B[49m\u001B[43m)\u001B[49m\n",
      "\u001B[0;31mValueError\u001B[0m: expected '}' before end of string"
     ]
    }
   ],
   "execution_count": 15
  },
  {
   "metadata": {
    "ExecuteTime": {
     "end_time": "2024-05-28T23:17:49.129036Z",
     "start_time": "2024-05-28T23:17:49.125147Z"
    }
   },
   "cell_type": "code",
   "source": "fmt.parse(\"{x\")",
   "id": "180292cbe9245485",
   "outputs": [
    {
     "data": {
      "text/plain": [
       "<formatteriterator at 0x105077ba0>"
      ]
     },
     "execution_count": 16,
     "metadata": {},
     "output_type": "execute_result"
    }
   ],
   "execution_count": 16
  },
  {
   "metadata": {},
   "cell_type": "code",
   "outputs": [],
   "execution_count": null,
   "source": "",
   "id": "6d9aeb0f8609d155"
  }
 ],
 "metadata": {
  "kernelspec": {
   "display_name": "Python 3 (ipykernel)",
   "language": "python",
   "name": "python3"
  },
  "language_info": {
   "codemirror_mode": {
    "name": "ipython",
    "version": 3
   },
   "file_extension": ".py",
   "mimetype": "text/x-python",
   "name": "python",
   "nbconvert_exporter": "python",
   "pygments_lexer": "ipython3",
   "version": "3.12.1"
  }
 },
 "nbformat": 4,
 "nbformat_minor": 5
}
