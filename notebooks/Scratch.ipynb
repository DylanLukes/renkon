{
 "cells": [
  {
   "metadata": {
    "ExecuteTime": {
     "end_time": "2024-06-05T18:43:28.747643Z",
     "start_time": "2024-06-05T18:43:28.745680Z"
    }
   },
   "cell_type": "code",
   "source": [
    "from renkon.settings import RenkonSettings\n",
    "from string import Formatter"
   ],
   "id": "56145ffbd1c5a0cf",
   "outputs": [],
   "execution_count": 5
  },
  {
   "metadata": {
    "ExecuteTime": {
     "end_time": "2024-06-04T21:46:43.011478Z",
     "start_time": "2024-06-04T21:46:42.985501Z"
    }
   },
   "cell_type": "code",
   "source": "RenkonSettings()",
   "id": "67aea5c849b66bfd",
   "outputs": [
    {
     "ename": "ValidationError",
     "evalue": "1 validation error for RepositorySettings\ndata_dir\n  Field required [type=missing, input_value={}, input_type=dict]\n    For further information visit https://errors.pydantic.dev/2.7/v/missing",
     "output_type": "error",
     "traceback": [
      "\u001B[0;31m---------------------------------------------------------------------------\u001B[0m",
      "\u001B[0;31mValidationError\u001B[0m                           Traceback (most recent call last)",
      "Cell \u001B[0;32mIn[3], line 1\u001B[0m\n\u001B[0;32m----> 1\u001B[0m \u001B[43mRenkonSettings\u001B[49m\u001B[43m(\u001B[49m\u001B[43m)\u001B[49m\n",
      "File \u001B[0;32m~/PycharmProjects/renkon/.hatch/renkon/lib/python3.12/site-packages/pydantic_settings/main.py:140\u001B[0m, in \u001B[0;36mBaseSettings.__init__\u001B[0;34m(__pydantic_self__, _case_sensitive, _env_prefix, _env_file, _env_file_encoding, _env_ignore_empty, _env_nested_delimiter, _env_parse_none_str, _env_parse_enums, _cli_prog_name, _cli_parse_args, _cli_settings_source, _cli_parse_none_str, _cli_hide_none_type, _cli_avoid_json, _cli_enforce_required, _cli_use_class_docs_for_groups, _cli_prefix, _secrets_dir, **values)\u001B[0m\n\u001B[1;32m    117\u001B[0m \u001B[38;5;28;01mdef\u001B[39;00m \u001B[38;5;21m__init__\u001B[39m(\n\u001B[1;32m    118\u001B[0m     __pydantic_self__,\n\u001B[1;32m    119\u001B[0m     _case_sensitive: \u001B[38;5;28mbool\u001B[39m \u001B[38;5;241m|\u001B[39m \u001B[38;5;28;01mNone\u001B[39;00m \u001B[38;5;241m=\u001B[39m \u001B[38;5;28;01mNone\u001B[39;00m,\n\u001B[0;32m   (...)\u001B[0m\n\u001B[1;32m    138\u001B[0m ) \u001B[38;5;241m-\u001B[39m\u001B[38;5;241m>\u001B[39m \u001B[38;5;28;01mNone\u001B[39;00m:\n\u001B[1;32m    139\u001B[0m     \u001B[38;5;66;03m# Uses something other than `self` the first arg to allow \"self\" as a settable attribute\u001B[39;00m\n\u001B[0;32m--> 140\u001B[0m     \u001B[38;5;28;43msuper\u001B[39;49m\u001B[43m(\u001B[49m\u001B[43m)\u001B[49m\u001B[38;5;241;43m.\u001B[39;49m\u001B[38;5;21;43m__init__\u001B[39;49m\u001B[43m(\u001B[49m\n\u001B[1;32m    141\u001B[0m \u001B[43m        \u001B[49m\u001B[38;5;241;43m*\u001B[39;49m\u001B[38;5;241;43m*\u001B[39;49m\u001B[43m__pydantic_self__\u001B[49m\u001B[38;5;241;43m.\u001B[39;49m\u001B[43m_settings_build_values\u001B[49m\u001B[43m(\u001B[49m\n\u001B[1;32m    142\u001B[0m \u001B[43m            \u001B[49m\u001B[43mvalues\u001B[49m\u001B[43m,\u001B[49m\n\u001B[1;32m    143\u001B[0m \u001B[43m            \u001B[49m\u001B[43m_case_sensitive\u001B[49m\u001B[38;5;241;43m=\u001B[39;49m\u001B[43m_case_sensitive\u001B[49m\u001B[43m,\u001B[49m\n\u001B[1;32m    144\u001B[0m \u001B[43m            \u001B[49m\u001B[43m_env_prefix\u001B[49m\u001B[38;5;241;43m=\u001B[39;49m\u001B[43m_env_prefix\u001B[49m\u001B[43m,\u001B[49m\n\u001B[1;32m    145\u001B[0m \u001B[43m            \u001B[49m\u001B[43m_env_file\u001B[49m\u001B[38;5;241;43m=\u001B[39;49m\u001B[43m_env_file\u001B[49m\u001B[43m,\u001B[49m\n\u001B[1;32m    146\u001B[0m \u001B[43m            \u001B[49m\u001B[43m_env_file_encoding\u001B[49m\u001B[38;5;241;43m=\u001B[39;49m\u001B[43m_env_file_encoding\u001B[49m\u001B[43m,\u001B[49m\n\u001B[1;32m    147\u001B[0m \u001B[43m            \u001B[49m\u001B[43m_env_ignore_empty\u001B[49m\u001B[38;5;241;43m=\u001B[39;49m\u001B[43m_env_ignore_empty\u001B[49m\u001B[43m,\u001B[49m\n\u001B[1;32m    148\u001B[0m \u001B[43m            \u001B[49m\u001B[43m_env_nested_delimiter\u001B[49m\u001B[38;5;241;43m=\u001B[39;49m\u001B[43m_env_nested_delimiter\u001B[49m\u001B[43m,\u001B[49m\n\u001B[1;32m    149\u001B[0m \u001B[43m            \u001B[49m\u001B[43m_env_parse_none_str\u001B[49m\u001B[38;5;241;43m=\u001B[39;49m\u001B[43m_env_parse_none_str\u001B[49m\u001B[43m,\u001B[49m\n\u001B[1;32m    150\u001B[0m \u001B[43m            \u001B[49m\u001B[43m_env_parse_enums\u001B[49m\u001B[38;5;241;43m=\u001B[39;49m\u001B[43m_env_parse_enums\u001B[49m\u001B[43m,\u001B[49m\n\u001B[1;32m    151\u001B[0m \u001B[43m            \u001B[49m\u001B[43m_cli_prog_name\u001B[49m\u001B[38;5;241;43m=\u001B[39;49m\u001B[43m_cli_prog_name\u001B[49m\u001B[43m,\u001B[49m\n\u001B[1;32m    152\u001B[0m \u001B[43m            \u001B[49m\u001B[43m_cli_parse_args\u001B[49m\u001B[38;5;241;43m=\u001B[39;49m\u001B[43m_cli_parse_args\u001B[49m\u001B[43m,\u001B[49m\n\u001B[1;32m    153\u001B[0m \u001B[43m            \u001B[49m\u001B[43m_cli_settings_source\u001B[49m\u001B[38;5;241;43m=\u001B[39;49m\u001B[43m_cli_settings_source\u001B[49m\u001B[43m,\u001B[49m\n\u001B[1;32m    154\u001B[0m \u001B[43m            \u001B[49m\u001B[43m_cli_parse_none_str\u001B[49m\u001B[38;5;241;43m=\u001B[39;49m\u001B[43m_cli_parse_none_str\u001B[49m\u001B[43m,\u001B[49m\n\u001B[1;32m    155\u001B[0m \u001B[43m            \u001B[49m\u001B[43m_cli_hide_none_type\u001B[49m\u001B[38;5;241;43m=\u001B[39;49m\u001B[43m_cli_hide_none_type\u001B[49m\u001B[43m,\u001B[49m\n\u001B[1;32m    156\u001B[0m \u001B[43m            \u001B[49m\u001B[43m_cli_avoid_json\u001B[49m\u001B[38;5;241;43m=\u001B[39;49m\u001B[43m_cli_avoid_json\u001B[49m\u001B[43m,\u001B[49m\n\u001B[1;32m    157\u001B[0m \u001B[43m            \u001B[49m\u001B[43m_cli_enforce_required\u001B[49m\u001B[38;5;241;43m=\u001B[39;49m\u001B[43m_cli_enforce_required\u001B[49m\u001B[43m,\u001B[49m\n\u001B[1;32m    158\u001B[0m \u001B[43m            \u001B[49m\u001B[43m_cli_use_class_docs_for_groups\u001B[49m\u001B[38;5;241;43m=\u001B[39;49m\u001B[43m_cli_use_class_docs_for_groups\u001B[49m\u001B[43m,\u001B[49m\n\u001B[1;32m    159\u001B[0m \u001B[43m            \u001B[49m\u001B[43m_cli_prefix\u001B[49m\u001B[38;5;241;43m=\u001B[39;49m\u001B[43m_cli_prefix\u001B[49m\u001B[43m,\u001B[49m\n\u001B[1;32m    160\u001B[0m \u001B[43m            \u001B[49m\u001B[43m_secrets_dir\u001B[49m\u001B[38;5;241;43m=\u001B[39;49m\u001B[43m_secrets_dir\u001B[49m\u001B[43m,\u001B[49m\n\u001B[1;32m    161\u001B[0m \u001B[43m        \u001B[49m\u001B[43m)\u001B[49m\n\u001B[1;32m    162\u001B[0m \u001B[43m    \u001B[49m\u001B[43m)\u001B[49m\n",
      "    \u001B[0;31m[... skipping hidden 1 frame]\u001B[0m\n",
      "File \u001B[0;32m~/PycharmProjects/renkon/.hatch/renkon/lib/python3.12/site-packages/pydantic/main.py:176\u001B[0m, in \u001B[0;36mBaseModel.__init__\u001B[0;34m(self, **data)\u001B[0m\n\u001B[1;32m    174\u001B[0m \u001B[38;5;66;03m# `__tracebackhide__` tells pytest and some other tools to omit this function from tracebacks\u001B[39;00m\n\u001B[1;32m    175\u001B[0m __tracebackhide__ \u001B[38;5;241m=\u001B[39m \u001B[38;5;28;01mTrue\u001B[39;00m\n\u001B[0;32m--> 176\u001B[0m \u001B[38;5;28;43mself\u001B[39;49m\u001B[38;5;241;43m.\u001B[39;49m\u001B[43m__pydantic_validator__\u001B[49m\u001B[38;5;241;43m.\u001B[39;49m\u001B[43mvalidate_python\u001B[49m\u001B[43m(\u001B[49m\u001B[43mdata\u001B[49m\u001B[43m,\u001B[49m\u001B[43m \u001B[49m\u001B[43mself_instance\u001B[49m\u001B[38;5;241;43m=\u001B[39;49m\u001B[38;5;28;43mself\u001B[39;49m\u001B[43m)\u001B[49m\n",
      "\u001B[0;31mValidationError\u001B[0m: 1 validation error for RepositorySettings\ndata_dir\n  Field required [type=missing, input_value={}, input_type=dict]\n    For further information visit https://errors.pydantic.dev/2.7/v/missing"
     ]
    }
   ],
   "execution_count": 3
  },
  {
   "metadata": {
    "ExecuteTime": {
     "end_time": "2024-06-05T18:45:35.806800Z",
     "start_time": "2024-06-05T18:45:35.803842Z"
    }
   },
   "cell_type": "code",
   "source": "Formatter().format('Hello {name} {{x}}', name='world')",
   "id": "abd5492e361b9dc9",
   "outputs": [
    {
     "data": {
      "text/plain": [
       "'Hello world {x}'"
      ]
     },
     "execution_count": 11,
     "metadata": {},
     "output_type": "execute_result"
    }
   ],
   "execution_count": 11
  },
  {
   "metadata": {
    "ExecuteTime": {
     "end_time": "2024-06-05T18:46:53.618466Z",
     "start_time": "2024-06-05T18:46:53.615571Z"
    }
   },
   "cell_type": "code",
   "source": "list(Formatter().parse(\"{0} {foo}\"))",
   "id": "e6abe57d8b0bfe05",
   "outputs": [
    {
     "data": {
      "text/plain": [
       "[('', '0', '', None), (' ', 'foo', '', None)]"
      ]
     },
     "execution_count": 12,
     "metadata": {},
     "output_type": "execute_result"
    }
   ],
   "execution_count": 12
  },
  {
   "metadata": {},
   "cell_type": "code",
   "outputs": [],
   "execution_count": null,
   "source": "",
   "id": "e02f7e0b95a7bccd"
  }
 ],
 "metadata": {
  "kernelspec": {
   "display_name": "Python 3 (ipykernel)",
   "language": "python",
   "name": "python3"
  },
  "language_info": {
   "codemirror_mode": {
    "name": "ipython",
    "version": 3
   },
   "file_extension": ".py",
   "mimetype": "text/x-python",
   "name": "python",
   "nbconvert_exporter": "python",
   "pygments_lexer": "ipython3",
   "version": "3.12.1"
  }
 },
 "nbformat": 4,
 "nbformat_minor": 5
}
