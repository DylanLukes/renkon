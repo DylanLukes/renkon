{
 "cells": [
  {
   "cell_type": "code",
   "id": "initial_id",
   "metadata": {
    "collapsed": true,
    "ExecuteTime": {
     "end_time": "2024-08-28T00:46:13.064545Z",
     "start_time": "2024-08-28T00:46:13.045632Z"
    }
   },
   "source": [
    "from z3 import DeclareSort, Function, BoolSort, Int, solve, Solver\n",
    "\n",
    "from renkon.core.model.schema import Schema"
   ],
   "outputs": [
    {
     "ename": "ModuleNotFoundError",
     "evalue": "No module named 'renkon.core.model.schema'",
     "output_type": "error",
     "traceback": [
      "\u001B[0;31m---------------------------------------------------------------------------\u001B[0m",
      "\u001B[0;31mModuleNotFoundError\u001B[0m                       Traceback (most recent call last)",
      "Cell \u001B[0;32mIn[4], line 3\u001B[0m\n\u001B[1;32m      1\u001B[0m \u001B[38;5;28;01mfrom\u001B[39;00m \u001B[38;5;21;01mz3\u001B[39;00m \u001B[38;5;28;01mimport\u001B[39;00m DeclareSort, Function, BoolSort, Int, solve, Solver\n\u001B[0;32m----> 3\u001B[0m \u001B[38;5;28;01mfrom\u001B[39;00m \u001B[38;5;21;01mrenkon\u001B[39;00m\u001B[38;5;21;01m.\u001B[39;00m\u001B[38;5;21;01mcore\u001B[39;00m\u001B[38;5;21;01m.\u001B[39;00m\u001B[38;5;21;01mmodel\u001B[39;00m\u001B[38;5;21;01m.\u001B[39;00m\u001B[38;5;21;01mschema\u001B[39;00m \u001B[38;5;28;01mimport\u001B[39;00m Schema\n",
      "\u001B[0;31mModuleNotFoundError\u001B[0m: No module named 'renkon.core.model.schema'"
     ]
    }
   ],
   "execution_count": 4
  },
  {
   "metadata": {
    "ExecuteTime": {
     "end_time": "2024-08-28T00:22:05.444577Z",
     "start_time": "2024-08-28T00:22:05.312643Z"
    }
   },
   "cell_type": "code",
   "outputs": [
    {
     "name": "stdout",
     "output_type": "stream",
     "text": [
      "Python 3.12.5\r\n"
     ]
    }
   ],
   "execution_count": 3,
   "source": "!python --version",
   "id": "ec470bf070a2f1e5"
  },
  {
   "metadata": {
    "ExecuteTime": {
     "end_time": "2024-08-28T00:18:13.648564Z",
     "start_time": "2024-08-28T00:18:13.645839Z"
    }
   },
   "cell_type": "code",
   "source": "subtype = Function(\"subtype\", RkType, RkType, BoolSort())",
   "id": "ffa2634b72969ceb",
   "outputs": [],
   "execution_count": 19
  },
  {
   "metadata": {
    "ExecuteTime": {
     "end_time": "2024-08-28T00:19:25.772641Z",
     "start_time": "2024-08-28T00:19:25.757527Z"
    }
   },
   "cell_type": "code",
   "source": [
    "x = Int('x')\n",
    "y = Int('y')\n",
    "\n",
    "s = Solver()\n",
    "s.add(x > 2, y < 10, x + 2*y == 7)\n",
    "print(s)\n",
    "s.check()\n",
    "m = s.model()"
   ],
   "id": "645ecb3a0279de30",
   "outputs": [
    {
     "name": "stdout",
     "output_type": "stream",
     "text": [
      "[x > 2, y < 10, x + 2*y == 7]\n"
     ]
    }
   ],
   "execution_count": 28
  },
  {
   "metadata": {
    "ExecuteTime": {
     "end_time": "2024-08-28T00:19:50.870678Z",
     "start_time": "2024-08-28T00:19:50.867016Z"
    }
   },
   "cell_type": "code",
   "source": "m.decls",
   "id": "d7f0504030c31f9b",
   "outputs": [
    {
     "data": {
      "text/plain": [
       "<bound method ModelRef.decls of [y = 0, x = 7]>"
      ]
     },
     "execution_count": 35,
     "metadata": {},
     "output_type": "execute_result"
    }
   ],
   "execution_count": 35
  },
  {
   "metadata": {},
   "cell_type": "code",
   "outputs": [],
   "execution_count": null,
   "source": "",
   "id": "a205f2c309d0e933"
  }
 ],
 "metadata": {
  "kernelspec": {
   "display_name": "Python 3",
   "language": "python",
   "name": "python3"
  },
  "language_info": {
   "codemirror_mode": {
    "name": "ipython",
    "version": 2
   },
   "file_extension": ".py",
   "mimetype": "text/x-python",
   "name": "python",
   "nbconvert_exporter": "python",
   "pygments_lexer": "ipython2",
   "version": "2.7.6"
  }
 },
 "nbformat": 4,
 "nbformat_minor": 5
}
