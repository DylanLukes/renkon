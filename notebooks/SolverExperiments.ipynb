{
 "cells": [
  {
   "cell_type": "code",
   "id": "initial_id",
   "metadata": {
    "collapsed": true,
    "ExecuteTime": {
     "end_time": "2024-09-22T22:05:52.364284Z",
     "start_time": "2024-09-22T22:05:52.361976Z"
    }
   },
   "source": "from z3 import Datatype, SetSort, CreateDatatypes, DatatypeSort",
   "outputs": [],
   "execution_count": 11
  },
  {
   "metadata": {
    "ExecuteTime": {
     "end_time": "2024-09-22T21:56:35.124526Z",
     "start_time": "2024-09-22T21:56:35.121868Z"
    }
   },
   "cell_type": "code",
   "source": [
    "def all_smt(s, initial_terms):\n",
    "    def block_term(s, m, t):\n",
    "        s.add(t != m.eval(t, model_completion=True))\n",
    "\n",
    "    def fix_term(s, m, t):\n",
    "        s.add(t == m.eval(t, model_completion=True))\n",
    "        \n",
    "    def all_smt_rec(terms):\n",
    "        print(f\"CALLED all_smt_rec with {terms}\")\n",
    "        if s.check() == sat:\n",
    "            m = s.model()\n",
    "            print(m)\n",
    "            yield m\n",
    "            for i in range(len(terms)):\n",
    "                s.push()\n",
    "                block_term(s, m, terms[i])\n",
    "                for j in range(i):\n",
    "                    fix_term(s, m, terms[j])\n",
    "                yield from all_smt_rec(terms[i:])\n",
    "                s.pop()\n",
    "    yield from all_smt_rec(list(initial_terms))"
   ],
   "id": "f43b757fb0178fd4",
   "outputs": [],
   "execution_count": 4
  },
  {
   "metadata": {},
   "cell_type": "code",
   "outputs": [],
   "execution_count": null,
   "source": "",
   "id": "25616ffed56cc292"
  },
  {
   "metadata": {
    "ExecuteTime": {
     "end_time": "2024-09-23T23:05:07.084619Z",
     "start_time": "2024-09-23T23:05:07.081749Z"
    }
   },
   "cell_type": "code",
   "source": [
    "RkTypeSort = DatatypeSort('RkType')\n",
    "\n",
    "RkType = Datatype(RkTypeSort)\n",
    "RkType.declare('Any')\n",
    "RkType.declare('None')\n",
    "RkType.declare('Int')\n",
    "RkType.declare('Float')\n",
    "RkType.declare('String')\n",
    "RkType.declare('Bool')\n",
    "RkType.declare('Union', ('members', SetSort(RkTypeSort)))"
   ],
   "id": "b0b9ff8b4354fd68",
   "outputs": [],
   "execution_count": 27
  },
  {
   "metadata": {},
   "cell_type": "code",
   "outputs": [],
   "execution_count": null,
   "source": "",
   "id": "c4f9a160df356bbb"
  },
  {
   "metadata": {},
   "cell_type": "markdown",
   "source": "",
   "id": "fdeadd4455d447fe"
  },
  {
   "metadata": {},
   "cell_type": "markdown",
   "source": "- https://stackoverflow.com/questions/11867611/z3py-checking-all-solutions-for-equation\n",
   "id": "1a9bc142f322cfa4"
  },
  {
   "metadata": {
    "ExecuteTime": {
     "end_time": "2024-09-23T23:05:12.270271Z",
     "start_time": "2024-09-23T23:05:12.267335Z"
    }
   },
   "cell_type": "code",
   "source": "from z3 import Fixedpoint",
   "id": "c03ee8108260c5c7",
   "outputs": [],
   "execution_count": 28
  },
  {
   "metadata": {
    "ExecuteTime": {
     "end_time": "2024-09-23T23:10:13.419701Z",
     "start_time": "2024-09-23T23:10:13.414121Z"
    }
   },
   "cell_type": "code",
   "source": [
    "fp = Fixedpoint()\n",
    "\n"
   ],
   "id": "646ed0ec1d752f07",
   "outputs": [],
   "execution_count": 29
  },
  {
   "metadata": {},
   "cell_type": "code",
   "outputs": [],
   "execution_count": null,
   "source": "",
   "id": "2d20f0b8e3215ad9"
  }
 ],
 "metadata": {
  "kernelspec": {
   "display_name": "Python 3",
   "language": "python",
   "name": "python3"
  },
  "language_info": {
   "codemirror_mode": {
    "name": "ipython",
    "version": 2
   },
   "file_extension": ".py",
   "mimetype": "text/x-python",
   "name": "python",
   "nbconvert_exporter": "python",
   "pygments_lexer": "ipython2",
   "version": "2.7.6"
  }
 },
 "nbformat": 4,
 "nbformat_minor": 5
}
