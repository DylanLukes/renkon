{
 "cells": [
  {
   "cell_type": "code",
   "execution_count": 6,
   "id": "76428075-9774-422e-b064-bf328737a78e",
   "metadata": {},
   "outputs": [],
   "source": [
    "!pip install numpy polars seaborn matplotlib"
   ]
  },
  {
   "cell_type": "code",
   "execution_count": 7,
   "id": "initial_id",
   "metadata": {
    "ExecuteTime": {
     "end_time": "2023-10-27T23:47:18.535652Z",
     "start_time": "2023-10-27T23:47:18.531262Z"
    }
   },
   "outputs": [],
   "source": [
    "import string\n",
    "\n",
    "import numpy as np\n",
    "import polars as pl\n",
    "import seaborn as sns"
   ]
  },
  {
   "cell_type": "markdown",
   "id": "f43dd5234cca4bb",
   "metadata": {
    "collapsed": false,
    "jupyter": {
     "outputs_hidden": false
    }
   },
   "source": [
    "## Data Setup"
   ]
  },
  {
   "cell_type": "code",
   "execution_count": 8,
   "id": "5c18e99e6a46963b",
   "metadata": {
    "ExecuteTime": {
     "end_time": "2023-10-28T00:35:11.379431Z",
     "start_time": "2023-10-28T00:35:11.358258Z"
    },
    "collapsed": false,
    "jupyter": {
     "outputs_hidden": false
    }
   },
   "outputs": [],
   "source": [
    "# Set of possible values.\n",
    "VALS = list(string.ascii_uppercase)\n",
    "\n",
    "N = 1000\n",
    "\n",
    "# Proportion of rows which should have the same value in both columns.\n",
    "PCT_EQ = 0.5\n",
    "\n",
    "# Generate a dataframe with PCT_EQ of rows having the same value in both columns.\n",
    "rows = []\n",
    "for i in range(N):\n",
    "    if i < N * PCT_EQ:\n",
    "        val = np.random.choice(VALS)\n",
    "        rows.append((val, val))\n",
    "    else:\n",
    "        rows.append(tuple(np.random.choice(VALS, size=2, replace=False)))\n",
    "\n",
    "df = pl.DataFrame(np.array(rows, dtype=[(\"foo\", \"U1\"), (\"bar\", \"U1\")]))\n",
    "\n",
    "df.select((pl.col(\"foo\") == pl.col(\"bar\")).alias(\"foo == bar\")).to_series().value_counts()"
   ]
  },
  {
   "cell_type": "code",
   "execution_count": 10,
   "id": "de3a4cb9-59f1-48ae-a5d9-c71b6e72369e",
   "metadata": {},
   "outputs": [],
   "source": [
    "df.describe();"
   ]
  },
  {
   "cell_type": "markdown",
   "id": "b85b0b5377a9c412",
   "metadata": {
    "collapsed": false,
    "jupyter": {
     "outputs_hidden": false
    }
   },
   "source": [
    "## Permutation Testing"
   ]
  },
  {
   "cell_type": "markdown",
   "id": "b3f690c3959670de",
   "metadata": {
    "collapsed": false,
    "jupyter": {
     "outputs_hidden": false
    }
   },
   "source": [
    "#### Notes: \n",
    "\n",
    "  - Null hypothesis: foo and bar are independent."
   ]
  },
  {
   "cell_type": "code",
   "execution_count": 211,
   "id": "e96e500fba15d11c",
   "metadata": {
    "ExecuteTime": {
     "end_time": "2023-10-28T00:43:59.228928Z",
     "start_time": "2023-10-28T00:43:58.086955Z"
    },
    "collapsed": false,
    "jupyter": {
     "outputs_hidden": false
    }
   },
   "outputs": [],
   "source": [
    "# Number of permutations to perform.\n",
    "N_PERMS = 10000\n",
    "\n",
    "obs_stat = df.select(pl.col(\"foo\") == pl.col(\"bar\")).sum().item() / N\n",
    "print(f\"Observed statistic: {obs_stat}\")\n",
    "\n",
    "perm_stats = []\n",
    "for i in range(N_PERMS):\n",
    "    # Test statistic is the number of rows where foo == bar.\n",
    "    perm_stat = df.select(pl.col(\"foo\") == pl.col(\"bar\").shuffle()).sum().item() / N\n",
    "    perm_stats.append(perm_stat)\n",
    "\n",
    "sns.histplot(perm_stats)\n",
    "\n",
    "# Count the number of cases where bs_stat exceeds obs_stat.\n",
    "extreme_count = np.sum(obs_stat >= np.array(perm_stats))\n",
    "\n",
    "print(f\"p-value is {extreme_count / N_PERMS}\")"
   ]
  },
  {
   "cell_type": "code",
   "execution_count": 210,
   "id": "2238547db1476b3a",
   "metadata": {
    "ExecuteTime": {
     "end_time": "2023-10-28T00:35:43.938364Z",
     "start_time": "2023-10-28T00:35:43.922794Z"
    },
    "collapsed": false,
    "jupyter": {
     "outputs_hidden": false
    }
   },
   "outputs": [],
   "source": [
    "perm_stats[:10]"
   ]
  },
  {
   "cell_type": "code",
   "execution_count": 262,
   "id": "42c053871317b7de",
   "metadata": {
    "ExecuteTime": {
     "end_time": "2023-10-28T01:08:15.232862Z",
     "start_time": "2023-10-28T01:08:15.224271Z"
    },
    "collapsed": false,
    "jupyter": {
     "outputs_hidden": false
    }
   },
   "outputs": [],
   "source": [
    "null_proportion = 0.9\n",
    "obs_proportion = 0.95\n",
    "n = 10000\n",
    "\n",
    "print(expected_true)\n",
    "p_value = np.sum(np.random.binomial(n, null_proportion, size=n)/n >= obs_proportion) / n\n",
    "print(f\"P-value: {p_value:.4f}\")"
   ]
  },
  {
   "cell_type": "code",
   "execution_count": null,
   "id": "8ac9e3b313a2c28f",
   "metadata": {
    "ExecuteTime": {
     "start_time": "2023-10-28T01:16:07.654724Z"
    },
    "collapsed": false,
    "is_executing": true,
    "jupyter": {
     "outputs_hidden": false
    }
   },
   "outputs": [],
   "source": [
    "def binom_test(len_data, null_pct, obs_pct):\n",
    "    return np.sum(np.random.binomial(len_data, null_pct, size=len_data)/n >= obs_pct) / len_data\n",
    "\n",
    "null_pct = 0.8\n",
    "len_data = 10000\n",
    "xs = np.arange(null_pct - 0.1, 1.0, 0.001)\n",
    "ys = np.array([binom_test(len_data, null_pct, x) for x in xs])\n",
    "\n",
    "sns.lineplot(x=xs, y=ys)"
   ]
  },
  {
   "cell_type": "code",
   "execution_count": 271,
   "id": "76c33e7bc9fa44ff",
   "metadata": {
    "ExecuteTime": {
     "end_time": "2023-10-28T01:13:54.792262Z",
     "start_time": "2023-10-28T01:13:54.788678Z"
    },
    "collapsed": false,
    "jupyter": {
     "outputs_hidden": false
    }
   },
   "outputs": [],
   "source": [
    "ys"
   ]
  },
  {
   "cell_type": "code",
   "execution_count": null,
   "id": "295166e81fa5864e",
   "metadata": {
    "collapsed": false,
    "jupyter": {
     "outputs_hidden": false
    }
   },
   "outputs": [],
   "source": []
  }
 ],
 "metadata": {
  "kernelspec": {
   "display_name": "Python 3 (ipykernel)",
   "language": "python",
   "name": "python3"
  },
  "language_info": {
   "codemirror_mode": {
    "name": "ipython",
    "version": 3
   },
   "file_extension": ".py",
   "mimetype": "text/x-python",
   "name": "python",
   "nbconvert_exporter": "python",
   "pygments_lexer": "ipython3",
   "version": "3.12.1"
  }
 },
 "nbformat": 4,
 "nbformat_minor": 5
}
