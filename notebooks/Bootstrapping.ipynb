{
 "cells": [
  {
   "cell_type": "code",
   "execution_count": 10,
   "id": "initial_id",
   "metadata": {
    "collapsed": true,
    "ExecuteTime": {
     "end_time": "2023-10-27T23:47:18.535652Z",
     "start_time": "2023-10-27T23:47:18.531262Z"
    }
   },
   "outputs": [],
   "source": [
    "import numpy as np\n",
    "import polars as pl\n",
    "import seaborn as sns\n",
    "import matplotlib.pyplot as plt\n",
    "import string"
   ]
  },
  {
   "cell_type": "markdown",
   "source": [
    "## Data Setup"
   ],
   "metadata": {
    "collapsed": false
   },
   "id": "f43dd5234cca4bb"
  },
  {
   "cell_type": "code",
   "execution_count": 207,
   "outputs": [
    {
     "data": {
      "text/plain": "shape: (2, 2)\n┌────────────┬────────┐\n│ foo == bar ┆ counts │\n│ ---        ┆ ---    │\n│ bool       ┆ u32    │\n╞════════════╪════════╡\n│ false      ┆ 500    │\n│ true       ┆ 500    │\n└────────────┴────────┘",
      "text/html": "<div><style>\n.dataframe > thead > tr > th,\n.dataframe > tbody > tr > td {\n  text-align: right;\n  white-space: pre-wrap;\n}\n</style>\n<small>shape: (2, 2)</small><table border=\"1\" class=\"dataframe\"><thead><tr><th>foo == bar</th><th>counts</th></tr><tr><td>bool</td><td>u32</td></tr></thead><tbody><tr><td>false</td><td>500</td></tr><tr><td>true</td><td>500</td></tr></tbody></table></div>"
     },
     "execution_count": 207,
     "metadata": {},
     "output_type": "execute_result"
    }
   ],
   "source": [
    "# Set of possible values.\n",
    "VALS = list(string.ascii_uppercase)\n",
    "\n",
    "N = 1000\n",
    "\n",
    "# Proportion of rows which should have the same value in both columns.\n",
    "PCT_EQ = 0.5\n",
    "\n",
    "# Generate a dataframe with PCT_EQ of rows having the same value in both columns.\n",
    "rows = []\n",
    "for i in range(N):\n",
    "    if i < N * PCT_EQ:\n",
    "        val = np.random.choice(VALS)\n",
    "        rows.append((val, val))\n",
    "    else:\n",
    "        rows.append(tuple(np.random.choice(VALS, size=2, replace=False)))\n",
    "        \n",
    "df = pl.DataFrame(np.array(rows, dtype=[(\"foo\", \"U1\"), (\"bar\", \"U1\")]))\n",
    "\n",
    "df.select((pl.col(\"foo\") == pl.col(\"bar\")).alias(\"foo == bar\")).to_series().value_counts()"
   ],
   "metadata": {
    "collapsed": false,
    "ExecuteTime": {
     "end_time": "2023-10-28T00:35:11.379431Z",
     "start_time": "2023-10-28T00:35:11.358258Z"
    }
   },
   "id": "5c18e99e6a46963b"
  },
  {
   "cell_type": "markdown",
   "source": [
    "## Permutation Testing"
   ],
   "metadata": {
    "collapsed": false
   },
   "id": "b85b0b5377a9c412"
  },
  {
   "cell_type": "markdown",
   "source": [
    "#### Notes: \n",
    "\n",
    "  - Null hypothesis: foo and bar are independent."
   ],
   "metadata": {
    "collapsed": false
   },
   "id": "b3f690c3959670de"
  },
  {
   "cell_type": "code",
   "execution_count": 211,
   "outputs": [
    {
     "name": "stdout",
     "output_type": "stream",
     "text": [
      "Observed statistic: 0.5\n",
      "p-value is 1.0\n"
     ]
    },
    {
     "data": {
      "text/plain": "<Figure size 640x480 with 1 Axes>",
      "image/png": "[encoded data removed]"
     },
     "metadata": {},
     "output_type": "display_data"
    }
   ],
   "source": [
    "# Number of permutations to perform.\n",
    "N_PERMS = 10000\n",
    "\n",
    "obs_stat = df.select(pl.col(\"foo\") == pl.col(\"bar\")).sum().item() / N\n",
    "print(f\"Observed statistic: {obs_stat}\")\n",
    "\n",
    "perm_stats = []\n",
    "for i in range(N_PERMS):\n",
    "    # Test statistic is the number of rows where foo == bar.\n",
    "    perm_stat = df.select(pl.col(\"foo\") == pl.col(\"bar\").shuffle()).sum().item() / N\n",
    "    perm_stats.append(perm_stat)\n",
    "    \n",
    "sns.histplot(perm_stats)\n",
    "\n",
    "# Count the number of cases where bs_stat exceeds obs_stat.\n",
    "extreme_count = np.sum(obs_stat >= np.array(perm_stats))\n",
    "\n",
    "print(f\"p-value is {extreme_count / N_PERMS}\")"
   ],
   "metadata": {
    "collapsed": false,
    "ExecuteTime": {
     "end_time": "2023-10-28T00:43:59.228928Z",
     "start_time": "2023-10-28T00:43:58.086955Z"
    }
   },
   "id": "e96e500fba15d11c"
  },
  {
   "cell_type": "code",
   "execution_count": 210,
   "outputs": [
    {
     "data": {
      "text/plain": "[0.036, 0.038, 0.035, 0.032, 0.029, 0.047, 0.041, 0.039, 0.044, 0.04]"
     },
     "execution_count": 210,
     "metadata": {},
     "output_type": "execute_result"
    }
   ],
   "source": [
    "perm_stats[:10]"
   ],
   "metadata": {
    "collapsed": false,
    "ExecuteTime": {
     "end_time": "2023-10-28T00:35:43.938364Z",
     "start_time": "2023-10-28T00:35:43.922794Z"
    }
   },
   "id": "2238547db1476b3a"
  },
  {
   "cell_type": "code",
   "execution_count": 262,
   "outputs": [
    {
     "name": "stdout",
     "output_type": "stream",
     "text": [
      "9000.0\n",
      "P-value: 0.0000\n"
     ]
    }
   ],
   "source": [
    "null_proportion = 0.9\n",
    "obs_proportion = 0.95\n",
    "n = 10000\n",
    "\n",
    "print(expected_true)\n",
    "p_value = np.sum(np.random.binomial(n, null_proportion, size=n)/n >= obs_proportion) / n\n",
    "print(f\"P-value: {p_value:.4f}\")"
   ],
   "metadata": {
    "collapsed": false,
    "ExecuteTime": {
     "end_time": "2023-10-28T01:08:15.232862Z",
     "start_time": "2023-10-28T01:08:15.224271Z"
    }
   },
   "id": "42c053871317b7de"
  },
  {
   "cell_type": "code",
   "execution_count": null,
   "outputs": [],
   "source": [
    "def binom_test(len_data, null_pct, obs_pct):\n",
    "    return np.sum(np.random.binomial(len_data, null_pct, size=len_data)/n >= obs_pct) / len_data\n",
    "\n",
    "null_pct = 0.8\n",
    "len_data = 10000\n",
    "xs = np.arange(null_pct - 0.1, 1.0, 0.001)\n",
    "ys = np.array([binom_test(len_data, null_pct, x) for x in xs])\n",
    "    \n",
    "sns.lineplot(x=xs, y=ys)"
   ],
   "metadata": {
    "collapsed": false,
    "is_executing": true,
    "ExecuteTime": {
     "start_time": "2023-10-28T01:16:07.654724Z"
    }
   },
   "id": "8ac9e3b313a2c28f"
  },
  {
   "cell_type": "code",
   "execution_count": 271,
   "outputs": [
    {
     "data": {
      "text/plain": "array([0., 0., 0., 0., 0., 0., 0., 0., 0., 0., 0., 0., 0., 0., 0., 0., 0.,\n       0., 0., 0., 0., 0., 0., 0., 0., 0., 0., 0., 0., 0., 0., 0., 0., 0.,\n       0., 0., 0., 0., 0., 0., 0., 0., 0., 0., 0., 0., 0., 0., 0., 0., 0.,\n       0., 0., 0., 0., 0., 0., 0., 0., 0., 0., 0., 0., 0., 0., 0., 0., 0.,\n       0., 0., 0., 0., 0., 0., 0., 0., 0., 0., 0., 0., 0., 0., 0., 0., 0.,\n       0., 0., 0., 0., 0., 0., 0., 0., 0., 0., 0., 0., 0., 0., 0.])"
     },
     "execution_count": 271,
     "metadata": {},
     "output_type": "execute_result"
    }
   ],
   "source": [
    "ys"
   ],
   "metadata": {
    "collapsed": false,
    "ExecuteTime": {
     "end_time": "2023-10-28T01:13:54.792262Z",
     "start_time": "2023-10-28T01:13:54.788678Z"
    }
   },
   "id": "76c33e7bc9fa44ff"
  },
  {
   "cell_type": "code",
   "execution_count": null,
   "outputs": [],
   "source": [],
   "metadata": {
    "collapsed": false
   },
   "id": "295166e81fa5864e"
  }
 ],
 "metadata": {
  "kernelspec": {
   "display_name": "Python 3",
   "language": "python",
   "name": "python3"
  },
  "language_info": {
   "codemirror_mode": {
    "name": "ipython",
    "version": 2
   },
   "file_extension": ".py",
   "mimetype": "text/x-python",
   "name": "python",
   "nbconvert_exporter": "python",
   "pygments_lexer": "ipython2",
   "version": "2.7.6"
  }
 },
 "nbformat": 4,
 "nbformat_minor": 5
}
