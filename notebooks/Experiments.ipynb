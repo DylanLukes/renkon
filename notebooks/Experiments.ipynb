{
 "cells": [
  {
   "cell_type": "code",
   "execution_count": 1,
   "source": [
    "!pip install seaborn matplotlib"
   ],
   "metadata": {
    "collapsed": false,
    "ExecuteTime": {
     "end_time": "2023-09-22T21:46:19.247487Z",
     "start_time": "2023-09-22T21:46:09.608337Z"
    }
   },
   "id": "b6f8e18053ca9ecb",
   "outputs": []
  },
  {
   "cell_type": "code",
   "execution_count": 4,
   "id": "initial_id",
   "metadata": {
    "collapsed": true,
    "ExecuteTime": {
     "end_time": "2023-10-27T22:29:53.208821Z",
     "start_time": "2023-10-27T22:29:53.134788Z"
    }
   },
   "source": [
    "from operator import methodcaller\n",
    "\n",
    "import polars as pl\n",
    "import numpy as np\n",
    "import renkon.api as rk\n",
    "\n",
    "import seaborn as sns\n",
    "import matplotlib.pyplot as plt\n",
    "\n",
    "\n",
    "def plot_linreg(m, c, *, ax):\n",
    "    \"\"\" Plot y = mx + c \"\"\"\n",
    "    ax = ax or plt.gca()\n",
    "    x = np.array(ax.get_xlim())\n",
    "    y = m * x + c\n",
    "    ax.plot(x, y, color=\"green\", linestyle=\":\")\n",
    "\n",
    "%load_ext autoreload\n",
    "%autoreload 2"
   ],
   "outputs": []
  },
  {
   "cell_type": "code",
   "execution_count": 5,
   "source": [
    "cereals_df = pl.read_csv(\"../etc/samples/cereals.csv\", separator=\";\", skip_rows_after_header=1).with_columns(\n",
    "    carbs=pl.col(\"carbo\") + pl.col(\"sugars\"),\n",
    ")\n",
    "cereals_df"
   ],
   "metadata": {
    "collapsed": false,
    "ExecuteTime": {
     "end_time": "2023-10-27T22:29:54.721315Z",
     "start_time": "2023-10-27T22:29:54.692460Z"
    }
   },
   "id": "62275aaf8ada3392",
   "outputs": []
  },
  {
   "cell_type": "code",
   "execution_count": 4,
   "source": [
    "cereals_df.write_csv(\"../etc/samples/cereals-cleaned.csv\", separator=\",\")"
   ],
   "metadata": {
    "collapsed": false,
    "ExecuteTime": {
     "end_time": "2023-09-22T21:46:27.928288Z",
     "start_time": "2023-09-22T21:46:27.903386Z"
    }
   },
   "id": "7e2c9af97031b95b",
   "outputs": []
  },
  {
   "cell_type": "code",
   "execution_count": 6,
   "source": [
    "# Data Inspection\n",
    "\n",
    "fig, axs = plt.subplots(1, 4, figsize=(16, 3))\n",
    "sns.histplot(ax=axs[0], data=cereals_df, x=\"calories\", kde=True);\n",
    "sns.histplot(ax=axs[1], data=cereals_df, x=\"carbs\", kde=True);\n",
    "sns.histplot(ax=axs[2], data=cereals_df, x=\"protein\", kde=True);\n",
    "sns.histplot(ax=axs[3], data=cereals_df, x=\"fat\", kde=True);\n",
    "fig.tight_layout()\n",
    "\n",
    "fig, axs = plt.subplots(1, 3, figsize=(12, 4))\n",
    "sns.scatterplot(ax=axs[0], data=cereals_df, x=\"carbs\", y=\"calories\")\n",
    "sns.scatterplot(ax=axs[1], data=cereals_df, x=\"protein\", y=\"calories\")\n",
    "sns.scatterplot(ax=axs[2], data=cereals_df, x=\"fat\", y=\"calories\")\n",
    "fig.tight_layout()"
   ],
   "metadata": {
    "collapsed": false,
    "ExecuteTime": {
     "end_time": "2023-10-27T22:29:59.161836Z",
     "start_time": "2023-10-27T22:29:58.177756Z"
    }
   },
   "id": "76414576ae3d6c1d",
   "outputs": []
  },
  {
   "cell_type": "code",
   "execution_count": 7,
   "source": [
    "CALORIES_PER = {\n",
    "    \"carbs\": 4,\n",
    "    \"protein\": 4,\n",
    "    \"fat\": 9,\n",
    "}\n",
    "\n",
    "cals_df = cereals_df.select(\n",
    "    pl.col(\"name\"),\n",
    "    pl.col(\"calories\").alias(\"cals_from_label\"),\n",
    "    pl.concat_list(\"carbs\", \"protein\", \"fat\").apply(\n",
    "        methodcaller(\"dot\", CALORIES_PER.values())\n",
    "    ).alias(\"cals_from_macros\")\n",
    ")\n",
    "cals_df"
   ],
   "metadata": {
    "collapsed": false,
    "ExecuteTime": {
     "end_time": "2023-10-27T22:30:00.708768Z",
     "start_time": "2023-10-27T22:30:00.671662Z"
    }
   },
   "id": "128dd7537390fc0f",
   "outputs": []
  },
  {
   "cell_type": "code",
   "execution_count": 8,
   "source": [
    "model, fit = rk.stats.linear_fit(data=cereals_df, y=\"calories\", x=[\"carbs\", \"protein\", \"fat\"])\n",
    "fit.params"
   ],
   "metadata": {
    "collapsed": false,
    "ExecuteTime": {
     "end_time": "2023-10-27T22:30:01.747631Z",
     "start_time": "2023-10-27T22:30:01.715278Z"
    }
   },
   "id": "7cfc7a36a709c94c",
   "outputs": []
  },
  {
   "cell_type": "code",
   "execution_count": 9,
   "source": [
    "fig, ax = plt.subplots(figsize=(6, 3))\n",
    "ax.set_xlim(0, 200)\n",
    "ax.set_ylim(0, 200)\n",
    "ax.plot([0, 200], [0, 200], color=\"green\", linestyle=\":\")\n",
    "sns.scatterplot(ax=ax, data=cals_df, x=\"cals_from_label\", y=\"cals_from_macros\")\n",
    "fig.tight_layout()"
   ],
   "metadata": {
    "collapsed": false,
    "ExecuteTime": {
     "end_time": "2023-10-27T22:30:02.105533Z",
     "start_time": "2023-10-27T22:30:01.988193Z"
    }
   },
   "id": "794fe567e91af108",
   "outputs": []
  },
  {
   "cell_type": "markdown",
   "source": [
    "# Definitions"
   ],
   "metadata": {
    "collapsed": false
   },
   "id": "cb7e2a7ac7a03a87"
  },
  {
   "cell_type": "markdown",
   "source": [],
   "metadata": {
    "collapsed": false
   },
   "id": "bde9587a61ad159f"
  },
  {
   "cell_type": "code",
   "execution_count": 11,
   "source": [
    "import functools as ft\n",
    "# Draw a parametrized sigmoid:\n",
    "\n",
    "dist = lambda a, b: np.abs(a - b)\n",
    "\n",
    "delta = 0.001\n",
    "\n",
    "# y-values of sigmoids asymptotes:\n",
    "y_max = 1\n",
    "y_min = 0\n",
    "\n",
    "# \"Amplitude\" of the sigmoid:\n",
    "amp = dist(y_max, y_min)\n",
    "\n",
    "# x-values where the sigmoid is at 0, reaches y_max - delta, and y_min + delta:\n",
    "x_lo = 0\n",
    "x_0 = 10\n",
    "x_hi = 2 * (x_0 - x_lo)\n",
    "\n",
    "# \"Wavelength\" of the sigmoid:\n",
    "wlen = dist(x_hi, x_lo)\n",
    "\n",
    "k = (np.log(amp/delta - 1) - np.log(amp/(amp - delta) -1)) / wlen\n",
    "\n",
    "x = np.linspace(-100, 100, 1000)\n",
    "y = 1 / (1 + np.exp(k*(x - x_0)))\n",
    "y = dist(y_min, y_max) * y + y_min\n",
    "\n",
    "# ---\n",
    "\n",
    "fig, ax = plt.subplots(figsize=(8, 6))\n",
    "\n",
    "ax.set_xlim(np.min(x), np.max(x))\n",
    "ax.set_ylim(y_min - delta, y_max + delta)\n",
    "\n",
    "ax.plot(x, y, label=\"|y_max - y_min| / (1 + exp(x) + y_min\")\n",
    "\n",
    "# Draw lines for y_max and y_min:\n",
    "ax.hlines(y_max, np.min(x), np.max(x), color=\"red\", linestyle=\":\", label=\"y_max\")\n",
    "ax.hlines(y_min, np.min(x), np.max(x), color=\"red\", linestyle=\":\", label=\"y_min\")\n",
    "\n",
    "# Draw vertical lines for x_lo and x_hi:\n",
    "ax.vlines(x_lo, np.min(y), np.max(y), color=\"green\", linestyle=\":\", label=f\"x_lo s.t. f(x_lo) = y_max - {delta}\")\n",
    "# ax.vlines(x_hi, np.min(y), np.max(y), color=\"green\", linestyle=\":\", label=f\"x_hi s.t. f(x_hi) = y_min + {delta}\")\n",
    "\n",
    "# Draw vertical line for x_0:\n",
    "ax.vlines(x_0, np.min(y), np.max(y), color=\"orange\", linestyle=\":\", label=f\"inlier cutoff\")\n",
    "\n",
    "# Zero lines for x and y:\n",
    "ax.hlines(0, np.min(x), np.max(x), color=\"black\", alpha=0.1)\n",
    "ax.vlines(0, np.min(y), np.max(y), color=\"black\", alpha=0.1)\n",
    "\n",
    "# Draw legend with solid background.\n",
    "ax.legend(frameon=True, facecolor=\"white\", framealpha=1.0)\n",
    "ax.set_xlim(x_lo - 5, max(x) / 2)\n",
    "ax.xaxis.set_major_locator(plt.MultipleLocator(10))\n",
    "\n",
    "ax.set_xlabel(\"Residual\")\n",
    "ax.set_ylabel(\"Conformity Score\")\n",
    "ax.set_title(\"Conformity Score of Residuals (parametrized by δ, x_lo, x_0, y_min, and y_max)\")\n",
    "\n",
    "fig.tight_layout()"
   ],
   "metadata": {
    "collapsed": false,
    "ExecuteTime": {
     "end_time": "2023-10-27T22:30:33.560387Z",
     "start_time": "2023-10-27T22:30:33.394895Z"
    }
   },
   "id": "72070a85a84236be",
   "outputs": []
  },
  {
   "cell_type": "code",
   "execution_count": 123,
   "source": [],
   "metadata": {
    "collapsed": false,
    "ExecuteTime": {
     "end_time": "2023-08-23T20:44:05.541020Z",
     "start_time": "2023-08-23T20:44:05.508926Z"
    }
   },
   "id": "1596d3721e03c8e6",
   "outputs": []
  },
  {
   "cell_type": "code",
   "execution_count": 118,
   "source": [
    "np.log((y_max - (y_max - delta)) - 1)"
   ],
   "metadata": {
    "collapsed": false,
    "ExecuteTime": {
     "end_time": "2023-08-23T20:43:22.455885Z",
     "start_time": "2023-08-23T20:43:22.406265Z"
    }
   },
   "id": "75da44ea5d8ae9b1",
   "outputs": []
  },
  {
   "cell_type": "code",
   "execution_count": 107,
   "source": [
    "dist(-1, 1)"
   ],
   "metadata": {
    "collapsed": false,
    "ExecuteTime": {
     "end_time": "2023-08-23T20:35:26.504529Z",
     "start_time": "2023-08-23T20:35:26.478895Z"
    }
   },
   "id": "c522a41c4f6230a9",
   "outputs": []
  },
  {
   "cell_type": "code",
   "execution_count": null,
   "source": [
    "def conformity(\n",
    "        errors: np.ndarray,\n",
    "        \n",
    ")"
   ],
   "metadata": {
    "collapsed": false
   },
   "id": "f55bb4506c94a438",
   "outputs": []
  },
  {
   "cell_type": "code",
   "execution_count": 7,
   "source": [
    "def linear_conformity(\n",
    "        res: np.ndarray,\n",
    "        thresh: float,\n",
    "        thresh_val: float = 0.8,\n",
    "        k: float = 1.0\n",
    ") -> np.ndarray:\n",
    "    \"\"\"\n",
    "    @param res: Residuals\n",
    "    @param thresh: Threshold\n",
    "    @param thresh_val: Conformity at the threshold value.\n",
    "    @param k: Slope of the sigmoid (tangent to the midpoint).\n",
    "    \"\"\"\n",
    "\n",
    "    # Calculate the midpoint of the sigmoid based on the threshold, f(threshold) and k.\n",
    "    x0 = thresh + (1 / k) * np.log((thresh_val / (1 - thresh_val)))\n",
    "\n",
    "    # Calculate the sigmoid.\n",
    "    return 1 / (1 + np.exp(k * (np.abs(res) - x0)))\n",
    "\n",
    "\n",
    "def linear_aberrance(\n",
    "        res: np.ndarray,\n",
    "        thresh: float,\n",
    "        thresh_val: float = 0.8,\n",
    "        k: float = 1.0\n",
    ") -> np.ndarray:\n",
    "    \"\"\"\n",
    "    @param res: Residuals\n",
    "    @param thresh: Threshold\n",
    "    @param thresh_val: Conformity at the threshold value.\n",
    "    @param k: Slope of the sigmoid (tangent to the midpoint).\n",
    "    \"\"\"\n",
    "    return 1 - linear_conformity(res, thresh, thresh_val, k)"
   ],
   "metadata": {
    "collapsed": false,
    "ExecuteTime": {
     "end_time": "2023-08-23T16:32:24.010283Z",
     "start_time": "2023-08-23T16:32:23.995161Z"
    }
   },
   "id": "5e988ad4434e6bb9",
   "outputs": []
  },
  {
   "cell_type": "code",
   "execution_count": 80,
   "source": [
    "thresh = 5\n",
    "k = 0.5\n",
    "thresh_conformity = 0.1\n",
    "\n",
    "x = np.linspace(0, 20, 100)\n",
    "y = linear_conformity(x, thresh, thresh_conformity, k)\n",
    "\n",
    "fig, ax = plt.subplots(figsize=(6, 3))\n",
    "ax.plot(x, y)\n",
    "ax.vlines(thresh, 0, 1, color=\"red\", linestyle=\":\")\n",
    "ax.hlines(thresh_conformity, 0, 20, color=\"green\", linestyle=\":\")\n",
    "ax.set_xlabel(\"Residual\")\n",
    "ax.set_ylabel(\"Conformity\")"
   ],
   "metadata": {
    "collapsed": false,
    "ExecuteTime": {
     "end_time": "2023-08-23T20:11:27.310047Z",
     "start_time": "2023-08-23T20:11:27.191045Z"
    }
   },
   "id": "6831a14dd95c63d0",
   "outputs": []
  },
  {
   "cell_type": "markdown",
   "source": [
    "# Model Testing"
   ],
   "metadata": {
    "collapsed": false
   },
   "id": "d9cb4c29693eecc3"
  },
  {
   "cell_type": "code",
   "execution_count": 9,
   "source": [
    "# Calculate IDR of calories\n",
    "cal_idr = cereals_df.select(pl.col(\"calories\")).quantile(0.90) - cereals_df.select(pl.col(\"calories\")).quantile(0.10)\n",
    "cal_idr"
   ],
   "metadata": {
    "collapsed": false,
    "ExecuteTime": {
     "end_time": "2023-08-23T16:32:24.134134Z",
     "start_time": "2023-08-23T16:32:24.118490Z"
    }
   },
   "id": "3fb974322e7aa8c",
   "outputs": []
  },
  {
   "cell_type": "code",
   "execution_count": 10,
   "source": [
    "cereals_df.select(pl.col(\"calories\")).quantile(0.25)"
   ],
   "metadata": {
    "collapsed": false,
    "ExecuteTime": {
     "end_time": "2023-08-23T16:32:24.160548Z",
     "start_time": "2023-08-23T16:32:24.135009Z"
    }
   },
   "id": "3af898ddcfcefdd0",
   "outputs": []
  },
  {
   "cell_type": "code",
   "execution_count": 11,
   "source": [
    "cal_iqr = pl.col(\"calories\").quantile(0.75) - pl.col(\"calories\").quantile(0.25)\n",
    "cal_idr = pl.col(\"calories\").quantile(0.9) - pl.col(\"calories\").quantile(0.1)\n",
    "cal_mad = (pl.col(\"calories\") - pl.col(\"calories\").median()).abs().median()"
   ],
   "metadata": {
    "collapsed": false,
    "ExecuteTime": {
     "end_time": "2023-08-23T16:32:24.202137Z",
     "start_time": "2023-08-23T16:32:24.150690Z"
    }
   },
   "id": "30045f48a7dd65b6",
   "outputs": []
  },
  {
   "cell_type": "code",
   "execution_count": 59,
   "source": [
    "results_df = (cereals_df.select(\n",
    "    pl.col(\"carbs\", \"protein\", \"fat\"),\n",
    "    expected=pl.col(\"calories\"),\n",
    "    predicted=fit.predict().alias(\"calories_pred\"),\n",
    "    err=fit.errors().abs().alias(\"err\"),\n",
    "    # MAD of calories\n",
    "    threshold=cal_idr\n",
    ").with_columns(\n",
    "    is_outlier=pl.col(\"err\") > pl.col(\"threshold\")\n",
    ")\n",
    ".with_columns(\n",
    "    macro_sum=pl.concat_list(\"carbs\", \"protein\", \"fat\").apply(\n",
    "        methodcaller(\"dot\", CALORIES_PER.values())\n",
    "    )\n",
    "))\n",
    "results_df;"
   ],
   "metadata": {
    "collapsed": false,
    "ExecuteTime": {
     "end_time": "2023-08-23T18:26:34.114032Z",
     "start_time": "2023-08-23T18:26:34.081187Z"
    }
   },
   "id": "19c5771a186eff4a",
   "outputs": []
  },
  {
   "cell_type": "code",
   "execution_count": 60,
   "source": [
    "fig, ax = plt.subplots(figsize=(5, 5))\n",
    "ax.set_xlim(0, 200)\n",
    "ax.set_ylim(0, 200)\n",
    "# todo: plot the trend line properly! \n",
    "ax.plot([0, 200], [0, 200], color=\"green\", linestyle=\":\")\n",
    "sns.scatterplot(ax=ax, data=results_df, x=\"expected\", y=\"predicted\", hue=\"is_outlier\")\n",
    "fig.tight_layout()"
   ],
   "metadata": {
    "collapsed": false,
    "ExecuteTime": {
     "end_time": "2023-08-23T18:26:34.622645Z",
     "start_time": "2023-08-23T18:26:34.473307Z"
    }
   },
   "id": "b38755d995b47407",
   "outputs": []
  },
  {
   "cell_type": "code",
   "execution_count": 14,
   "source": [
    "results_df.with_row_count().filter(pl.col(\"is_outlier\")).sort(\"err\", descending=True)"
   ],
   "metadata": {
    "collapsed": false,
    "ExecuteTime": {
     "end_time": "2023-08-23T16:32:24.358888Z",
     "start_time": "2023-08-23T16:32:24.338628Z"
    }
   },
   "id": "5e3648b12047d3c2",
   "outputs": []
  },
  {
   "cell_type": "markdown",
   "source": [
    "# RANSAC (Reference)"
   ],
   "metadata": {
    "collapsed": false
   },
   "id": "8aa4fc774bced989"
  },
  {
   "cell_type": "code",
   "execution_count": 15,
   "source": [
    "from sklearn.linear_model import RANSACRegressor"
   ],
   "metadata": {
    "collapsed": false,
    "ExecuteTime": {
     "end_time": "2023-08-23T16:32:24.467121Z",
     "start_time": "2023-08-23T16:32:24.357240Z"
    }
   },
   "id": "1f6d67bc50b7c839",
   "outputs": []
  },
  {
   "cell_type": "code",
   "execution_count": 30,
   "source": [
    "ransac = RANSACRegressor(random_state=42)\n",
    "ransac.fit(cereals_df.select(pl.col(\"carbs\", \"protein\", \"fat\")), cereals_df.select(pl.col(\"calories\")))\n",
    "ransac.estimator_.coef_"
   ],
   "metadata": {
    "collapsed": false,
    "ExecuteTime": {
     "end_time": "2023-08-23T16:36:37.973354Z",
     "start_time": "2023-08-23T16:36:37.915827Z"
    }
   },
   "id": "539208e0cb4a4bd9",
   "outputs": []
  },
  {
   "cell_type": "code",
   "execution_count": 34,
   "source": [],
   "metadata": {
    "collapsed": false,
    "ExecuteTime": {
     "end_time": "2023-08-23T16:37:03.002119Z",
     "start_time": "2023-08-23T16:37:02.984588Z"
    }
   },
   "id": "9584f0eefd14914b",
   "outputs": []
  },
  {
   "cell_type": "code",
   "execution_count": 53,
   "source": [
    "fig, axs = plt.subplots(2, figsize=(5, 5))\n",
    "ax.set_xlim(0, 200)\n",
    "ax.set_ylim(0, 200)\n",
    "ax.plot([0, 200], [0, 200], color=\"green\", linestyle=\":\")\n",
    "sns.scatterplot(ax=ax, data=results_df.with_columns(\n",
    "    sk_predicted=pl.lit(ransac.predict(cereals_df.select(pl.col(\"carbs\", \"protein\", \"fat\"))).reshape(-1))\n",
    "), x=\"expected\", y=\"sk_predicted\", hue=\"is_outlier\")\n",
    "fig.tight_layout()"
   ],
   "metadata": {
    "collapsed": false,
    "ExecuteTime": {
     "end_time": "2023-08-23T16:40:12.049409Z",
     "start_time": "2023-08-23T16:40:11.898051Z"
    }
   },
   "id": "62269368a10b151a",
   "outputs": []
  },
  {
   "cell_type": "code",
   "execution_count": null,
   "source": [],
   "metadata": {
    "collapsed": false
   },
   "id": "ed41f2654ef15a18",
   "outputs": []
  }
 ],
 "metadata": {
  "kernelspec": {
   "display_name": "Python 3",
   "language": "python",
   "name": "python3"
  },
  "language_info": {
   "codemirror_mode": {
    "name": "ipython",
    "version": 2
   },
   "file_extension": ".py",
   "mimetype": "text/x-python",
   "name": "python",
   "nbconvert_exporter": "python",
   "pygments_lexer": "ipython2",
   "version": "2.7.6"
  }
 },
 "nbformat": 4,
 "nbformat_minor": 5
}
