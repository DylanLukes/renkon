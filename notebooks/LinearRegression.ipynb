{
 "cells": [
  {
   "cell_type": "markdown",
   "source": [
    "# Linear Regression Experiments"
   ],
   "metadata": {
    "collapsed": false
   },
   "id": "a31d39faa8bef506"
  },
  {
   "cell_type": "code",
   "execution_count": 46,
   "source": [
    "import numpy as np\n",
    "import polars as pl\n",
    "import seaborn as sns\n",
    "import matplotlib.pyplot as plt\n",
    "\n",
    "sns.set(rc={'figure.figsize':(11.7,8.27)})"
   ],
   "metadata": {
    "collapsed": false,
    "ExecuteTime": {
     "end_time": "2023-12-12T22:01:30.802871Z",
     "start_time": "2023-12-12T22:01:30.799590Z"
    }
   },
   "id": "137173179a4c6a0a",
   "outputs": []
  },
  {
   "cell_type": "code",
   "execution_count": 78,
   "source": [
    "X_MIN = 0\n",
    "X_MAX = 100\n",
    "\n",
    "N_POINTS = 1000\n",
    "N_OUTLIERS = 50\n",
    "\n",
    "NOISE_STD = 25\n",
    "OUTLIER_STD = 500\n",
    "\n",
    "# True slope and intercept.\n",
    "M = np.pi\n",
    "B = np.e\n",
    "\n",
    "# Noise\n",
    "noise = np.random.normal(0, NOISE_STD, N_POINTS)\n",
    "\n",
    "# Outlier Offsets\n",
    "outliers = np.zeros(N_POINTS)\n",
    "for _ in range(N_OUTLIERS):\n",
    "    # All positive to skew upwards.\n",
    "    # TODO: this _could_ pick the same index twice, but it's unlikely.\n",
    "    outliers[np.random.randint(0, N_POINTS)] = np.abs(np.random.normal(0, OUTLIER_STD))\n",
    "\n",
    "x = np.linspace(X_MIN, X_MAX, N_POINTS)\n",
    "y = (M * x + B) + noise + outliers\n",
    "\n",
    "df = pl.DataFrame({\"x\": x, \"y\": y})\n",
    "\n",
    "sns.regplot(data=df, x=\"x\", y=\"y\", marker='.')"
   ],
   "metadata": {
    "collapsed": false,
    "ExecuteTime": {
     "end_time": "2023-12-12T22:22:05.519051Z",
     "start_time": "2023-12-12T22:22:05.341057Z"
    }
   },
   "id": "d67eba96ce422c7a",
   "outputs": []
  },
  {
   "cell_type": "code",
   "execution_count": 79,
   "source": [
    "from renkon.core.stats.linear import OLSModel"
   ],
   "metadata": {
    "collapsed": false,
    "ExecuteTime": {
     "end_time": "2023-12-12T22:22:07.543209Z",
     "start_time": "2023-12-12T22:22:07.537279Z"
    }
   },
   "id": "7bd9719d653f0c21",
   "outputs": []
  },
  {
   "cell_type": "code",
   "execution_count": 80,
   "source": [
    "# Seaborn Regression Plot\n",
    "sns.regplot(data=df, x=\"x\", y=\"y\", marker='.')\n",
    "\n",
    "# OLSModel\n",
    "model = OLSModel(\"y\", \"x\")\n",
    "results = model.fit(df)\n",
    "print(results)\n",
    "results_df = df.select(pl.col(\"x\"), results.predict())\n",
    "sns.lineplot(data=results_df, x=\"x\", y=\"y\", color=\"red\")"
   ],
   "metadata": {
    "collapsed": false,
    "ExecuteTime": {
     "end_time": "2023-12-12T22:22:08.257336Z",
     "start_time": "2023-12-12T22:22:08.070664Z"
    }
   },
   "id": "2f32c3a5b93a4be9",
   "outputs": []
  },
  {
   "cell_type": "code",
   "execution_count": 81,
   "source": [
    "from sklearn.linear_model import RANSACRegressor, LinearRegression\n",
    "\n",
    "ransac = RANSACRegressor(estimator=LinearRegression())\n",
    "ransac.fit(df[[\"x\"]], df[\"y\"])\n",
    "\n",
    "print(ransac.estimator_.coef_, ransac.estimator_.intercept_)\n",
    "print(ransac.score(df[[\"x\"]], df[\"y\"]))\n",
    "\n",
    "# Select only inlying points for scoring\n",
    "inlying_x = df[[\"x\"]].filter(ransac.inlier_mask_)\n",
    "inlying_y = df[[\"y\"]].filter(ransac.inlier_mask_)\n",
    "\n",
    "print(ransac.estimator_.score(inlying_x, inlying_y))\n",
    "\n",
    "# print(ransac.score(df[[\"x\"]][ransac.inlier_mask_], df[\"y\"][ransac.inlier_mask_]))\n",
    "\n",
    "ransac_df = df[[\"x\"]].with_columns(\n",
    "    y = pl.Series(ransac.predict(df[[\"x\"]]))\n",
    ")\n",
    "\n",
    "# Seaborn Regression Plot\n",
    "sns.regplot(data=df, x=\"x\", y=\"y\", marker='.')\n",
    "# OLSModel\n",
    "sns.lineplot(data=results_df, x=\"x\", y=\"y\", color=\"red\")\n",
    "# RANSAC Regression Plot\n",
    "sns.lineplot(data=ransac_df, x=\"x\", y=\"y\", color=\"green\")"
   ],
   "metadata": {
    "collapsed": false,
    "ExecuteTime": {
     "end_time": "2023-12-12T22:22:10.001313Z",
     "start_time": "2023-12-12T22:22:09.812408Z"
    }
   },
   "id": "f656d836d51c29e5",
   "outputs": []
  },
  {
   "cell_type": "code",
   "execution_count": 82,
   "source": [
    "# x = ay + b case for testing\n",
    "\n",
    "ransac_inv = RANSACRegressor(estimator=LinearRegression())\n",
    "ransac_inv.fit(df[[\"y\"]], df[\"x\"])\n",
    "\n",
    "print(ransac_inv.estimator_.coef_, ransac_inv.estimator_.intercept_)\n",
    "print(ransac_inv.score(df[[\"y\"]], df[\"x\"]))\n",
    "\n",
    "ransac_df = df[[\"y\"]].with_columns(\n",
    "    x = pl.Series(ransac_inv.predict(df[[\"y\"]]))\n",
    ")\n",
    "\n",
    "# Seaborn Regression Plot\n",
    "sns.regplot(data=df, x=\"y\", y=\"x\", marker='.')\n",
    "# RANSAC Regression Plot\n",
    "sns.lineplot(data=ransac_df, x=\"y\", y=\"x\", color=\"green\")"
   ],
   "metadata": {
    "collapsed": false,
    "ExecuteTime": {
     "end_time": "2023-12-12T22:22:12.054895Z",
     "start_time": "2023-12-12T22:22:11.864585Z"
    }
   },
   "id": "a25eb0746c473dd9",
   "outputs": []
  },
  {
   "cell_type": "code",
   "execution_count": 83,
   "source": [
    "!pwd"
   ],
   "metadata": {
    "collapsed": false,
    "ExecuteTime": {
     "end_time": "2023-12-12T22:22:14.008365Z",
     "start_time": "2023-12-12T22:22:13.876406Z"
    }
   },
   "id": "15200839487e9a85",
   "outputs": []
  },
  {
   "cell_type": "code",
   "execution_count": 84,
   "source": [
    "\n",
    "df.write_csv(\"../etc/synthetic/linear1.csv\")\n"
   ],
   "metadata": {
    "collapsed": false,
    "ExecuteTime": {
     "end_time": "2023-12-12T22:22:14.011731Z",
     "start_time": "2023-12-12T22:22:14.008998Z"
    }
   },
   "id": "b5eceec162d5e5b6",
   "outputs": []
  },
  {
   "cell_type": "code",
   "execution_count": null,
   "source": [],
   "metadata": {
    "collapsed": false
   },
   "id": "246c7411b418c003",
   "outputs": []
  }
 ],
 "metadata": {
  "kernelspec": {
   "display_name": "Python 3",
   "language": "python",
   "name": "python3"
  },
  "language_info": {
   "codemirror_mode": {
    "name": "ipython",
    "version": 2
   },
   "file_extension": ".py",
   "mimetype": "text/x-python",
   "name": "python",
   "nbconvert_exporter": "python",
   "pygments_lexer": "ipython2",
   "version": "2.7.6"
  }
 },
 "nbformat": 4,
 "nbformat_minor": 5
}
