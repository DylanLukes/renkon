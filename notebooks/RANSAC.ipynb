{
 "cells": [
  {
   "cell_type": "code",
   "execution_count": 9,
   "id": "initial_id",
   "metadata": {
    "ExecuteTime": {
     "end_time": "2023-10-27T21:05:50.115201Z",
     "start_time": "2023-10-27T21:05:40.007284Z"
    },
    "collapsed": true
   },
   "outputs": [],
   "source": [
    "import matplotlib.pyplot as plt\n",
    "import numpy as np\n",
    "import polars as pl\n",
    "import seaborn as sns\n",
    "\n",
    "# Set polars to be verbose.\n",
    "pl.Config.set_verbose(True)\n",
    "\n",
    "# Set default figsize.\n",
    "sns.set_style(\"whitegrid\")"
   ]
  },
  {
   "cell_type": "markdown",
   "id": "313af35ca55e751e",
   "metadata": {
    "collapsed": false
   },
   "source": [
    "# Data\n",
    "Data sets for testing inference."
   ]
  },
  {
   "cell_type": "code",
   "execution_count": 10,
   "id": "7fda13bf7a37f0c5",
   "metadata": {
    "ExecuteTime": {
     "end_time": "2023-10-27T21:05:50.139727Z",
     "start_time": "2023-10-27T21:05:50.115985Z"
    },
    "collapsed": false
   },
   "outputs": [],
   "source": [
    "# Set the seed for reproducibility.\n",
    "np.random.seed(42)"
   ]
  },
  {
   "cell_type": "code",
   "execution_count": 11,
   "id": "b89c1b04d006a1b",
   "metadata": {
    "ExecuteTime": {
     "end_time": "2023-10-27T21:05:50.211741Z",
     "start_time": "2023-10-27T21:05:50.143949Z"
    },
    "collapsed": false
   },
   "outputs": [],
   "source": [
    "# Generate a random data set.\n",
    "N = 1000\n",
    "X_min = 0\n",
    "X_max = 10\n",
    "\n",
    "a = 2\n",
    "b = np.random.normal(0, 1, N)\n",
    "x = np.linspace(X_min, X_max, N)\n",
    "y = a * x + b"
   ]
  },
  {
   "cell_type": "code",
   "execution_count": 12,
   "id": "5998d93e9dc0a3e6",
   "metadata": {
    "ExecuteTime": {
     "end_time": "2023-10-27T21:05:54.000421Z",
     "start_time": "2023-10-27T21:05:53.993082Z"
    },
    "collapsed": false
   },
   "outputs": [],
   "source": [
    "df = pl.DataFrame({\"x\": x, \"y\": y, \"a\": a, \"b\": b})"
   ]
  },
  {
   "cell_type": "code",
   "execution_count": 13,
   "id": "da4c73db1c13b046",
   "metadata": {
    "ExecuteTime": {
     "end_time": "2023-10-27T21:05:54.906698Z",
     "start_time": "2023-10-27T21:05:54.397679Z"
    },
    "collapsed": false
   },
   "outputs": [],
   "source": [
    "fig, (ax1, ax2) = plt.subplots(ncols=2, figsize=(12, 6))\n",
    "\n",
    "sns.scatterplot(ax=ax1, data=df, x=\"x\", y=\"y\")\n",
    "sns.lineplot(ax=ax1, x=x, y=a*x, color=\"green\", linestyle=\":\")\n",
    "\n",
    "sns.histplot(ax=ax2, data=df, x=\"b\", kde=True, stat=\"density\")\n",
    "None"
   ]
  },
  {
   "cell_type": "markdown",
   "id": "e0b706b9be51db0e",
   "metadata": {
    "collapsed": false
   },
   "source": [
    "# Renkon Work\n",
    "To be moved into the library itself."
   ]
  },
  {
   "cell_type": "code",
   "execution_count": 14,
   "id": "776087981f0587ef",
   "metadata": {
    "ExecuteTime": {
     "end_time": "2023-10-27T21:05:56.919190Z",
     "start_time": "2023-10-27T21:05:56.895078Z"
    },
    "collapsed": false
   },
   "outputs": [],
   "source": [
    "%load_ext autoreload\n",
    "%aimport renkon, renkon.api"
   ]
  },
  {
   "cell_type": "code",
   "execution_count": 15,
   "id": "dfedd6ce6f525a00",
   "metadata": {
    "ExecuteTime": {
     "end_time": "2023-10-27T21:05:57.174582Z",
     "start_time": "2023-10-27T21:05:57.169804Z"
    },
    "collapsed": false
   },
   "outputs": [],
   "source": [
    "import renkon.api as rk"
   ]
  },
  {
   "cell_type": "code",
   "execution_count": 16,
   "id": "bf97d276bcea6aa",
   "metadata": {
    "ExecuteTime": {
     "end_time": "2023-10-27T21:05:57.641597Z",
     "start_time": "2023-10-27T21:05:57.599495Z"
    },
    "collapsed": false
   },
   "outputs": [],
   "source": [
    "sample = rk.sample.const(k=50)"
   ]
  },
  {
   "cell_type": "code",
   "execution_count": null,
   "id": "8793c5fa4aec37bf",
   "metadata": {
    "ExecuteTime": {
     "start_time": "2023-10-27T21:04:16.114889Z"
    },
    "collapsed": false
   },
   "outputs": [],
   "source": [
    "sample.indices"
   ]
  },
  {
   "cell_type": "code",
   "execution_count": null,
   "id": "3395be75181fa600",
   "metadata": {
    "ExecuteTime": {
     "start_time": "2023-10-27T21:04:16.116361Z"
    },
    "collapsed": false
   },
   "outputs": [],
   "source": [
    "df.filter(sample.mask)"
   ]
  },
  {
   "cell_type": "markdown",
   "id": "338e351caed4dc05",
   "metadata": {
    "collapsed": false
   },
   "source": [
    "# RANSAC Working Area"
   ]
  },
  {
   "cell_type": "code",
   "execution_count": null,
   "id": "13d9089c9fab27a1",
   "metadata": {
    "ExecuteTime": {
     "start_time": "2023-10-27T21:04:16.117621Z"
    },
    "collapsed": false
   },
   "outputs": [],
   "source": [
    "import polars as pl\n",
    "from polars.lazyframe import *\n",
    "\n",
    "%load_ext autoreload\n",
    "%aimport renkon, renkon.api"
   ]
  },
  {
   "cell_type": "code",
   "execution_count": null,
   "id": "e1457a216bcb5158",
   "metadata": {
    "ExecuteTime": {
     "start_time": "2023-10-27T21:04:16.118543Z"
    },
    "collapsed": false
   },
   "outputs": [],
   "source": [
    "pl.Config.set_verbose(True)"
   ]
  },
  {
   "cell_type": "code",
   "execution_count": null,
   "id": "50cf5fc4aa973609",
   "metadata": {
    "ExecuteTime": {
     "start_time": "2023-10-27T21:04:16.119487Z"
    },
    "collapsed": false
   },
   "outputs": [],
   "source": [
    "x = np.arange(0.0, 100.0)\n",
    "y = x\n",
    "df = pl.DataFrame({\"x\": x, \"y\": y})\n",
    "\n",
    "model = rk.stats.OLSModel(\"y\", [\"x\"], fit_intercept=True)\n",
    "fit = model.fit(df)\n",
    "\n",
    "# Produce some data that should not be explained by this model:\n",
    "bad_data = pl.from_records([\n",
    "    (42, 42),  # one good point\n",
    "    (0.1, 100.0),\n",
    "    (5.0, -5.0),\n",
    "    (100.0, 0.0)\n",
    "], schema=(\"x\", \"y\"))\n",
    "\n",
    "bad_data.select(fit.errors())"
   ]
  },
  {
   "cell_type": "markdown",
   "id": "f7c455c43b7e5898",
   "metadata": {
    "collapsed": false
   },
   "source": [
    "fit.params"
   ]
  },
  {
   "cell_type": "code",
   "execution_count": null,
   "id": "8d3a6f5d312319d9",
   "metadata": {
    "ExecuteTime": {
     "start_time": "2023-10-27T21:04:16.120372Z"
    },
    "collapsed": false
   },
   "outputs": [],
   "source": [
    "bad_data.select(fit.rsquared(adjust=False))"
   ]
  },
  {
   "cell_type": "code",
   "execution_count": null,
   "id": "52172423c18268fa",
   "metadata": {
    "ExecuteTime": {
     "start_time": "2023-10-27T21:04:16.121372Z"
    },
    "collapsed": false
   },
   "outputs": [],
   "source": [
    "bad_data.select(fit.rsquared(adjust=True))"
   ]
  },
  {
   "cell_type": "code",
   "execution_count": null,
   "id": "4b8c050df8ebeecd",
   "metadata": {
    "ExecuteTime": {
     "start_time": "2023-10-27T21:04:16.122180Z"
    },
    "collapsed": false
   },
   "outputs": [],
   "source": [
    "n = pl.count().alias(\"n\")\n",
    "k = len(model.x_cols) + int(model.fit_intercept)\n",
    "dof = (n - k - 1)\n",
    "bad_data.select(dof)"
   ]
  },
  {
   "cell_type": "code",
   "execution_count": null,
   "id": "297e1557b3f676de",
   "metadata": {
    "ExecuteTime": {
     "start_time": "2023-10-27T21:04:16.123048Z"
    },
    "collapsed": false
   },
   "outputs": [],
   "source": [
    "bad_data.select(pl.count())"
   ]
  },
  {
   "cell_type": "code",
   "execution_count": null,
   "id": "60b59f8e98a3a8e3",
   "metadata": {
    "ExecuteTime": {
     "start_time": "2023-10-27T21:04:16.124109Z"
    },
    "collapsed": false
   },
   "outputs": [],
   "source": [
    "model.fit_intercept"
   ]
  },
  {
   "cell_type": "code",
   "execution_count": null,
   "id": "b424c886e856add8",
   "metadata": {
    "ExecuteTime": {
     "start_time": "2023-10-27T21:04:16.124869Z"
    },
    "collapsed": false
   },
   "outputs": [],
   "source": []
  }
 ],
 "metadata": {
  "kernelspec": {
   "display_name": "Python 3",
   "language": "python",
   "name": "python3"
  },
  "language_info": {
   "codemirror_mode": {
    "name": "ipython",
    "version": 2
   },
   "file_extension": ".py",
   "mimetype": "text/x-python",
   "name": "python",
   "nbconvert_exporter": "python",
   "pygments_lexer": "ipython2",
   "version": "2.7.6"
  }
 },
 "nbformat": 4,
 "nbformat_minor": 5
}
