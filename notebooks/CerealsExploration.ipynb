{
 "cells": [
  {
   "cell_type": "markdown",
   "id": "538c7ce3-b501-4d30-9e4d-8334822f4d26",
   "metadata": {},
   "source": [
    "# Cereals Exploration"
   ]
  },
  {
   "cell_type": "markdown",
   "id": "35e2b5fb-be4a-48f0-8bb4-f42e069bd25b",
   "metadata": {},
   "source": [
    "This notebook explores the cereals dataset to find good candidate tasks for a small prototype study.\n",
    "\n",
    "Reference: http://lib.stat.cmu.edu/datasets/1993.expo/"
   ]
  },
  {
   "cell_type": "markdown",
   "id": "26b59239-3cca-418c-ae1f-4c9d9bbeca4a",
   "metadata": {},
   "source": [
    "Here are some facts about nutrition that might help you in your analysis. Nutritional recommendations are drawn from the references at the end of this document:\n",
    "\n",
    "- Adults should consume between 20 and 35 grams of dietary fiber per day.\n",
    "- The recommended daily intake (RDI) for calories is 2200 for women and 2900 for men.\n",
    "- Calories come in three food components. There are 9 calories per gram of fat, and 4 calories per gram of carbohydrate and protein.\n",
    "- Overall, in your diet, no more than 10% of your calories should be consumed from simple carbohydrates (sugars), and no more than 30% should come from fat. The RDI of protein is 50 grams for women and 63 grams for men. The balance of calories should be consumed in the form of complex carbohydrates (starches).\n",
    "- The average adult with no defined risk factors or other dietary restrictions should consume between 1800 and 2400 mg of sodium per day.\n",
    "- The type and amount of milk added to cereal can make a significant difference in the fat and protein content of your breakfast.\n",
    "\n",
    "One possible task is to develop a graphic that would allow the consumer to quickly compare a particular cereal to other possible choices. Some additional questions to consider, and try to answer with effective graphics:\n",
    "- Can you find the correlations you might expect? Are there any surprising correlations?\n",
    "- What is the true \"dimensionality\" of the data?\n",
    "- Are there any cereals which are virtually identical?\n",
    "- Is there any way to discriminate among the major manufacturers by cereal characteristics, or do they each have a \"balanced portfolio\" of cereals?\n",
    "- Do the nutritional claims made in cereal advertisements stand the scrutiny of data analysis?\n",
    "- Are there cereals which are clearly nutritionally superior, or inferior? Are there clusters of cereals?\n",
    "- Is a ranking or scoring scheme possible or reasonable, and if so, are there cereals which are nutritionally superior or inferior under all reasonable weighting schemes?"
   ]
  },
  {
   "cell_type": "code",
   "execution_count": 2,
   "id": "c8509715-1270-4cb3-a803-bae23ef9e7e3",
   "metadata": {
    "ExecuteTime": {
     "end_time": "2023-12-19T16:50:31.459134Z",
     "start_time": "2023-12-19T16:50:31.417401Z"
    }
   },
   "source": [
    "import polars as pl\n",
    "import numpy as np\n",
    "import seaborn as sns\n",
    "import matplotlib.pyplot as plt"
   ],
   "outputs": []
  },
  {
   "cell_type": "code",
   "execution_count": 3,
   "id": "6ec5266f-e30c-4ad8-8336-234d2ea33f8d",
   "metadata": {
    "ExecuteTime": {
     "end_time": "2023-12-19T16:50:31.687862Z",
     "start_time": "2023-12-19T16:50:31.683647Z"
    }
   },
   "source": [
    "cereals = pl.read_csv(\"../etc/samples/cereals-cleaned.csv\")"
   ],
   "outputs": []
  },
  {
   "cell_type": "code",
   "execution_count": 4,
   "id": "702ebc7b-6689-4cdd-9587-313fee53487f",
   "metadata": {
    "ExecuteTime": {
     "end_time": "2023-12-19T16:50:31.929748Z",
     "start_time": "2023-12-19T16:50:31.923430Z"
    }
   },
   "source": [
    "cereals.head(10)"
   ],
   "outputs": []
  },
  {
   "cell_type": "markdown",
   "id": "79ad0e73-a816-4fd0-9407-8a0b5ec45c77",
   "metadata": {},
   "source": [
    "## Preliminary Exploration"
   ]
  },
  {
   "cell_type": "markdown",
   "source": [
    "### Missing Data"
   ],
   "metadata": {
    "collapsed": false
   },
   "id": "c0cd571795541834"
  },
  {
   "cell_type": "code",
   "execution_count": 1,
   "source": [
    "(cereals\n",
    " .lazy()\n",
    " .\n",
    ").collect()"
   ],
   "metadata": {
    "collapsed": false,
    "ExecuteTime": {
     "end_time": "2023-12-19T16:49:23.696922Z",
     "start_time": "2023-12-19T16:49:23.575489Z"
    }
   },
   "id": "399c56f27d1f2fd1",
   "outputs": []
  },
  {
   "cell_type": "code",
   "execution_count": 28,
   "source": [
    "# Select only columns with numeric data, and then find all rows with negative values.\n",
    "cereals.select(pl.col(pl.NUMERIC_DTYPES)).filter(pl.any_horizontal(pl.col(\"*\") < 0))"
   ],
   "metadata": {
    "collapsed": false,
    "ExecuteTime": {
     "end_time": "2023-12-15T20:31:44.900033Z",
     "start_time": "2023-12-15T20:31:44.889626Z"
    }
   },
   "id": "be5b88d35ac86323",
   "outputs": []
  },
  {
   "cell_type": "markdown",
   "source": [
    "### Characterization"
   ],
   "metadata": {
    "collapsed": false
   },
   "id": "e60070f78e8392be"
  },
  {
   "cell_type": "code",
   "execution_count": 8,
   "id": "650cbe02-03a2-4943-a0cf-5306f16f07e8",
   "metadata": {
    "ExecuteTime": {
     "end_time": "2023-12-15T20:17:30.807717Z",
     "start_time": "2023-12-15T20:17:30.753949Z"
    }
   },
   "source": [
    "sns.boxenplot(cereals, y=\"rating\")"
   ],
   "outputs": []
  },
  {
   "cell_type": "code",
   "execution_count": 5,
   "id": "b1ee5530-8787-42e8-8eff-6cf0bd357256",
   "metadata": {
    "ExecuteTime": {
     "end_time": "2023-12-15T20:16:09.213438Z",
     "start_time": "2023-12-15T20:16:09.147159Z"
    }
   },
   "source": [
    "cereals[cereals[\"rating\"].arg_max()]"
   ],
   "outputs": []
  },
  {
   "cell_type": "code",
   "execution_count": 6,
   "id": "23d6b3a9-276b-49d0-9840-ba24f0cfa5f6",
   "metadata": {
    "ExecuteTime": {
     "end_time": "2023-12-15T20:16:09.476158Z",
     "start_time": "2023-12-15T20:16:09.151796Z"
    }
   },
   "source": [
    "g = sns.PairGrid(cereals, x_vars=[\"carbs\", \"protein\", \"fat\",], y_vars=\"calories\")\n",
    "g.map(sns.regplot);"
   ],
   "outputs": []
  },
  {
   "cell_type": "code",
   "execution_count": 7,
   "id": "f490bd77-b755-43cc-b22b-47290516bdb4",
   "metadata": {
    "ExecuteTime": {
     "end_time": "2023-12-15T20:16:09.970228Z",
     "start_time": "2023-12-15T20:16:09.474828Z"
    }
   },
   "source": [
    "g = sns.PairGrid(cereals, x_vars=[\"calories\", \"carbs\", \"protein\", \"fat\", \"vitamins\"], y_vars=\"rating\")\n",
    "g.map(sns.regplot);"
   ],
   "outputs": []
  },
  {
   "cell_type": "code",
   "execution_count": 6,
   "id": "9df7ad97-fcdb-4e06-87f9-ec171b56d513",
   "metadata": {
    "ExecuteTime": {
     "end_time": "2023-12-19T17:27:38.644008Z",
     "start_time": "2023-12-19T17:27:38.527603Z"
    }
   },
   "source": [
    "g = sns.PairGrid(cereals, x_vars=[\"shelf\"], y_vars=\"sugars\")\n",
    "g.map(sns.regplot);"
   ],
   "outputs": []
  },
  {
   "cell_type": "code",
   "execution_count": 16,
   "source": [
    "sns.scatterplot(cereals, x=\"carbo\", y=\"sugars\")"
   ],
   "metadata": {
    "collapsed": false,
    "ExecuteTime": {
     "end_time": "2023-12-19T18:21:58.128550Z",
     "start_time": "2023-12-19T18:21:58.033404Z"
    }
   },
   "id": "729c1140819ece33",
   "outputs": []
  },
  {
   "cell_type": "code",
   "execution_count": null,
   "source": [],
   "metadata": {
    "collapsed": false
   },
   "id": "723fb3172bd4285a",
   "outputs": []
  }
 ],
 "metadata": {
  "kernelspec": {
   "display_name": "Python 3 (ipykernel)",
   "language": "python",
   "name": "python3"
  },
  "language_info": {
   "codemirror_mode": {
    "name": "ipython",
    "version": 3
   },
   "file_extension": ".py",
   "mimetype": "text/x-python",
   "name": "python",
   "nbconvert_exporter": "python",
   "pygments_lexer": "ipython3",
   "version": "3.12.0"
  }
 },
 "nbformat": 4,
 "nbformat_minor": 5
}
