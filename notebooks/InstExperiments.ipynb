{
 "cells": [
  {
   "metadata": {
    "collapsed": true,
    "ExecuteTime": {
     "end_time": "2024-09-30T22:34:15.119288Z",
     "start_time": "2024-09-30T22:34:15.115991Z"
    }
   },
   "cell_type": "code",
   "source": [
    "from collections.abc import Generator\n",
    "from dataclasses import dataclass\n",
    "\n",
    "import polars as pl\n",
    "from rich import print\n",
    "\n",
    "import renkon.api as rk\n",
    "from renkon.core.model import TraitSpec, TraitSketch, RenkonType\n",
    "from renkon.core.type import PrimitiveType"
   ],
   "id": "initial_id",
   "outputs": [],
   "execution_count": 2
  },
  {
   "metadata": {
    "ExecuteTime": {
     "end_time": "2024-09-30T22:34:15.140274Z",
     "start_time": "2024-09-30T22:34:15.133416Z"
    }
   },
   "cell_type": "code",
   "source": [
    "df = pl.read_csv(\"fish.csv\").cast({\"Weight\": pl.Int64}).with_columns((pl.col(\"Weight\") > 100).alias(\"IsLarge\"))\n",
    "df"
   ],
   "id": "fdd846e26edab2e5",
   "outputs": [
    {
     "data": {
      "text/plain": [
       "shape: (159, 8)\n",
       "┌─────────┬────────┬─────────┬─────────┬─────────┬─────────┬────────┬─────────┐\n",
       "│ Species ┆ Weight ┆ Length1 ┆ Length2 ┆ Length3 ┆ Height  ┆ Width  ┆ IsLarge │\n",
       "│ ---     ┆ ---    ┆ ---     ┆ ---     ┆ ---     ┆ ---     ┆ ---    ┆ ---     │\n",
       "│ str     ┆ i64    ┆ f64     ┆ f64     ┆ f64     ┆ f64     ┆ f64    ┆ bool    │\n",
       "╞═════════╪════════╪═════════╪═════════╪═════════╪═════════╪════════╪═════════╡\n",
       "│ Bream   ┆ 242    ┆ 23.2    ┆ 25.4    ┆ 30.0    ┆ 11.52   ┆ 4.02   ┆ true    │\n",
       "│ Bream   ┆ 290    ┆ 24.0    ┆ 26.3    ┆ 31.2    ┆ 12.48   ┆ 4.3056 ┆ true    │\n",
       "│ Bream   ┆ 340    ┆ 23.9    ┆ 26.5    ┆ 31.1    ┆ 12.3778 ┆ 4.6961 ┆ true    │\n",
       "│ Bream   ┆ 363    ┆ 26.3    ┆ 29.0    ┆ 33.5    ┆ 12.73   ┆ 4.4555 ┆ true    │\n",
       "│ Bream   ┆ 430    ┆ 26.5    ┆ 29.0    ┆ 34.0    ┆ 12.444  ┆ 5.134  ┆ true    │\n",
       "│ …       ┆ …      ┆ …       ┆ …       ┆ …       ┆ …       ┆ …      ┆ …       │\n",
       "│ Smelt   ┆ 12     ┆ 11.5    ┆ 12.2    ┆ 13.4    ┆ 2.0904  ┆ 1.3936 ┆ false   │\n",
       "│ Smelt   ┆ 13     ┆ 11.7    ┆ 12.4    ┆ 13.5    ┆ 2.43    ┆ 1.269  ┆ false   │\n",
       "│ Smelt   ┆ 12     ┆ 12.1    ┆ 13.0    ┆ 13.8    ┆ 2.277   ┆ 1.2558 ┆ false   │\n",
       "│ Smelt   ┆ 19     ┆ 13.2    ┆ 14.3    ┆ 15.2    ┆ 2.8728  ┆ 2.0672 ┆ false   │\n",
       "│ Smelt   ┆ 19     ┆ 13.8    ┆ 15.0    ┆ 16.2    ┆ 2.9322  ┆ 1.8792 ┆ false   │\n",
       "└─────────┴────────┴─────────┴─────────┴─────────┴─────────┴────────┴─────────┘"
      ],
      "text/html": [
       "<div><style>\n",
       ".dataframe > thead > tr,\n",
       ".dataframe > tbody > tr {\n",
       "  text-align: right;\n",
       "  white-space: pre-wrap;\n",
       "}\n",
       "</style>\n",
       "<small>shape: (159, 8)</small><table border=\"1\" class=\"dataframe\"><thead><tr><th>Species</th><th>Weight</th><th>Length1</th><th>Length2</th><th>Length3</th><th>Height</th><th>Width</th><th>IsLarge</th></tr><tr><td>str</td><td>i64</td><td>f64</td><td>f64</td><td>f64</td><td>f64</td><td>f64</td><td>bool</td></tr></thead><tbody><tr><td>&quot;Bream&quot;</td><td>242</td><td>23.2</td><td>25.4</td><td>30.0</td><td>11.52</td><td>4.02</td><td>true</td></tr><tr><td>&quot;Bream&quot;</td><td>290</td><td>24.0</td><td>26.3</td><td>31.2</td><td>12.48</td><td>4.3056</td><td>true</td></tr><tr><td>&quot;Bream&quot;</td><td>340</td><td>23.9</td><td>26.5</td><td>31.1</td><td>12.3778</td><td>4.6961</td><td>true</td></tr><tr><td>&quot;Bream&quot;</td><td>363</td><td>26.3</td><td>29.0</td><td>33.5</td><td>12.73</td><td>4.4555</td><td>true</td></tr><tr><td>&quot;Bream&quot;</td><td>430</td><td>26.5</td><td>29.0</td><td>34.0</td><td>12.444</td><td>5.134</td><td>true</td></tr><tr><td>&hellip;</td><td>&hellip;</td><td>&hellip;</td><td>&hellip;</td><td>&hellip;</td><td>&hellip;</td><td>&hellip;</td><td>&hellip;</td></tr><tr><td>&quot;Smelt&quot;</td><td>12</td><td>11.5</td><td>12.2</td><td>13.4</td><td>2.0904</td><td>1.3936</td><td>false</td></tr><tr><td>&quot;Smelt&quot;</td><td>13</td><td>11.7</td><td>12.4</td><td>13.5</td><td>2.43</td><td>1.269</td><td>false</td></tr><tr><td>&quot;Smelt&quot;</td><td>12</td><td>12.1</td><td>13.0</td><td>13.8</td><td>2.277</td><td>1.2558</td><td>false</td></tr><tr><td>&quot;Smelt&quot;</td><td>19</td><td>13.2</td><td>14.3</td><td>15.2</td><td>2.8728</td><td>2.0672</td><td>false</td></tr><tr><td>&quot;Smelt&quot;</td><td>19</td><td>13.8</td><td>15.0</td><td>16.2</td><td>2.9322</td><td>1.8792</td><td>false</td></tr></tbody></table></div>"
      ]
     },
     "execution_count": 3,
     "metadata": {},
     "output_type": "execute_result"
    }
   ],
   "execution_count": 3
  },
  {
   "metadata": {
    "ExecuteTime": {
     "end_time": "2024-09-30T22:34:15.226875Z",
     "start_time": "2024-09-30T22:34:15.222901Z"
    }
   },
   "cell_type": "code",
   "source": [
    "schema = rk.Schema.from_polars(df.schema)\n",
    "print(schema)"
   ],
   "id": "760664dd7cbdd82c",
   "outputs": [
    {
     "data": {
      "text/plain": [
       "\u001B[1m{\u001B[0m\n",
       "    \u001B[32m'Species'\u001B[0m: \u001B[1;35mStringType\u001B[0m\u001B[1m(\u001B[0m\u001B[1m)\u001B[0m,\n",
       "    \u001B[32m'Weight'\u001B[0m: \u001B[1;35mIntType\u001B[0m\u001B[1m(\u001B[0m\u001B[1m)\u001B[0m,\n",
       "    \u001B[32m'Length1'\u001B[0m: \u001B[1;35mFloatType\u001B[0m\u001B[1m(\u001B[0m\u001B[1m)\u001B[0m,\n",
       "    \u001B[32m'Length2'\u001B[0m: \u001B[1;35mFloatType\u001B[0m\u001B[1m(\u001B[0m\u001B[1m)\u001B[0m,\n",
       "    \u001B[32m'Length3'\u001B[0m: \u001B[1;35mFloatType\u001B[0m\u001B[1m(\u001B[0m\u001B[1m)\u001B[0m,\n",
       "    \u001B[32m'Height'\u001B[0m: \u001B[1;35mFloatType\u001B[0m\u001B[1m(\u001B[0m\u001B[1m)\u001B[0m,\n",
       "    \u001B[32m'Width'\u001B[0m: \u001B[1;35mFloatType\u001B[0m\u001B[1m(\u001B[0m\u001B[1m)\u001B[0m,\n",
       "    \u001B[32m'IsLarge'\u001B[0m: \u001B[1;35mBoolType\u001B[0m\u001B[1m(\u001B[0m\u001B[1m)\u001B[0m\n",
       "\u001B[1m}\u001B[0m\n"
      ],
      "text/html": [
       "<pre style=\"white-space:pre;overflow-x:auto;line-height:normal;font-family:Menlo,'DejaVu Sans Mono',consolas,'Courier New',monospace\"><span style=\"font-weight: bold\">{</span>\n",
       "    <span style=\"color: #008000; text-decoration-color: #008000\">'Species'</span>: <span style=\"color: #800080; text-decoration-color: #800080; font-weight: bold\">StringType</span><span style=\"font-weight: bold\">()</span>,\n",
       "    <span style=\"color: #008000; text-decoration-color: #008000\">'Weight'</span>: <span style=\"color: #800080; text-decoration-color: #800080; font-weight: bold\">IntType</span><span style=\"font-weight: bold\">()</span>,\n",
       "    <span style=\"color: #008000; text-decoration-color: #008000\">'Length1'</span>: <span style=\"color: #800080; text-decoration-color: #800080; font-weight: bold\">FloatType</span><span style=\"font-weight: bold\">()</span>,\n",
       "    <span style=\"color: #008000; text-decoration-color: #008000\">'Length2'</span>: <span style=\"color: #800080; text-decoration-color: #800080; font-weight: bold\">FloatType</span><span style=\"font-weight: bold\">()</span>,\n",
       "    <span style=\"color: #008000; text-decoration-color: #008000\">'Length3'</span>: <span style=\"color: #800080; text-decoration-color: #800080; font-weight: bold\">FloatType</span><span style=\"font-weight: bold\">()</span>,\n",
       "    <span style=\"color: #008000; text-decoration-color: #008000\">'Height'</span>: <span style=\"color: #800080; text-decoration-color: #800080; font-weight: bold\">FloatType</span><span style=\"font-weight: bold\">()</span>,\n",
       "    <span style=\"color: #008000; text-decoration-color: #008000\">'Width'</span>: <span style=\"color: #800080; text-decoration-color: #800080; font-weight: bold\">FloatType</span><span style=\"font-weight: bold\">()</span>,\n",
       "    <span style=\"color: #008000; text-decoration-color: #008000\">'IsLarge'</span>: <span style=\"color: #800080; text-decoration-color: #800080; font-weight: bold\">BoolType</span><span style=\"font-weight: bold\">()</span>\n",
       "<span style=\"font-weight: bold\">}</span>\n",
       "</pre>\n"
      ]
     },
     "metadata": {},
     "output_type": "display_data"
    }
   ],
   "execution_count": 4
  },
  {
   "metadata": {
    "ExecuteTime": {
     "end_time": "2024-09-30T22:34:15.248188Z",
     "start_time": "2024-09-30T22:34:15.244401Z"
    }
   },
   "cell_type": "code",
   "source": [
    "spec = rk.trait.Linear2.spec\n",
    "print(spec)"
   ],
   "id": "71f4da1970a5a62d",
   "outputs": [
    {
     "data": {
      "text/plain": [
       "\u001B[1;35mTraitSpec\u001B[0m\u001B[1m(\u001B[0m\n",
       "    \u001B[33mid\u001B[0m=\u001B[32m'renkon.core.trait.linear'\u001B[0m,\n",
       "    \u001B[33mname\u001B[0m=\u001B[32m'renkon.core.trait.linear'\u001B[0m,\n",
       "    \u001B[33mkind\u001B[0m=\u001B[1m<\u001B[0m\u001B[1;95mTraitKind.MODEL:\u001B[0m\u001B[39m \u001B[0m\u001B[32m'model'\u001B[0m\u001B[1m>\u001B[0m,\n",
       "    \u001B[33mpattern\u001B[0m=\u001B[32m'\u001B[0m\u001B[32m{\u001B[0m\u001B[32mY\u001B[0m\u001B[32m}\u001B[0m\u001B[32m = \u001B[0m\u001B[32m{\u001B[0m\u001B[32mb_1\u001B[0m\u001B[32m}\u001B[0m\u001B[32m*\u001B[0m\u001B[32m{\u001B[0m\u001B[32mX_1\u001B[0m\u001B[32m}\u001B[0m\u001B[32m + \u001B[0m\u001B[32m{\u001B[0m\u001B[32mb_0\u001B[0m\u001B[32m}\u001B[0m\u001B[32m'\u001B[0m,\n",
       "    \u001B[33mcommutors\u001B[0m=\u001B[1;35mset\u001B[0m\u001B[1m(\u001B[0m\u001B[1m)\u001B[0m,\n",
       "    \u001B[33mtypevars\u001B[0m=\u001B[1m{\u001B[0m\u001B[1m}\u001B[0m,\n",
       "    \u001B[33mtypings\u001B[0m=\u001B[1m{\u001B[0m\n",
       "        \u001B[32m'X_1'\u001B[0m: \u001B[1;35mUnionType\u001B[0m\u001B[1m(\u001B[0m\u001B[33mts\u001B[0m=\u001B[1;35mfrozenset\u001B[0m\u001B[1m(\u001B[0m\u001B[1m{\u001B[0m\u001B[1;35mFloatType\u001B[0m\u001B[1m(\u001B[0m\u001B[1m)\u001B[0m, \u001B[1;35mIntType\u001B[0m\u001B[1m(\u001B[0m\u001B[1m)\u001B[0m\u001B[1m}\u001B[0m\u001B[1m)\u001B[0m\u001B[1m)\u001B[0m,\n",
       "        \u001B[32m'Y'\u001B[0m: \u001B[1;35mUnionType\u001B[0m\u001B[1m(\u001B[0m\u001B[33mts\u001B[0m=\u001B[1;35mfrozenset\u001B[0m\u001B[1m(\u001B[0m\u001B[1m{\u001B[0m\u001B[1;35mFloatType\u001B[0m\u001B[1m(\u001B[0m\u001B[1m)\u001B[0m, \u001B[1;35mIntType\u001B[0m\u001B[1m(\u001B[0m\u001B[1m)\u001B[0m\u001B[1m}\u001B[0m\u001B[1m)\u001B[0m\u001B[1m)\u001B[0m,\n",
       "        \u001B[32m'b_0'\u001B[0m: \u001B[1;35mFloatType\u001B[0m\u001B[1m(\u001B[0m\u001B[1m)\u001B[0m,\n",
       "        \u001B[32m'b_1'\u001B[0m: \u001B[1;35mFloatType\u001B[0m\u001B[1m(\u001B[0m\u001B[1m)\u001B[0m\n",
       "    \u001B[1m}\u001B[0m\n",
       "\u001B[1m)\u001B[0m\n"
      ],
      "text/html": [
       "<pre style=\"white-space:pre;overflow-x:auto;line-height:normal;font-family:Menlo,'DejaVu Sans Mono',consolas,'Courier New',monospace\"><span style=\"color: #800080; text-decoration-color: #800080; font-weight: bold\">TraitSpec</span><span style=\"font-weight: bold\">(</span>\n",
       "    <span style=\"color: #808000; text-decoration-color: #808000\">id</span>=<span style=\"color: #008000; text-decoration-color: #008000\">'renkon.core.trait.linear'</span>,\n",
       "    <span style=\"color: #808000; text-decoration-color: #808000\">name</span>=<span style=\"color: #008000; text-decoration-color: #008000\">'renkon.core.trait.linear'</span>,\n",
       "    <span style=\"color: #808000; text-decoration-color: #808000\">kind</span>=<span style=\"font-weight: bold\">&lt;</span><span style=\"color: #ff00ff; text-decoration-color: #ff00ff; font-weight: bold\">TraitKind.MODEL:</span><span style=\"color: #000000; text-decoration-color: #000000\"> </span><span style=\"color: #008000; text-decoration-color: #008000\">'model'</span><span style=\"font-weight: bold\">&gt;</span>,\n",
       "    <span style=\"color: #808000; text-decoration-color: #808000\">pattern</span>=<span style=\"color: #008000; text-decoration-color: #008000\">'{Y} = {b_1}*{X_1} + {b_0}'</span>,\n",
       "    <span style=\"color: #808000; text-decoration-color: #808000\">commutors</span>=<span style=\"color: #800080; text-decoration-color: #800080; font-weight: bold\">set</span><span style=\"font-weight: bold\">()</span>,\n",
       "    <span style=\"color: #808000; text-decoration-color: #808000\">typevars</span>=<span style=\"font-weight: bold\">{}</span>,\n",
       "    <span style=\"color: #808000; text-decoration-color: #808000\">typings</span>=<span style=\"font-weight: bold\">{</span>\n",
       "        <span style=\"color: #008000; text-decoration-color: #008000\">'X_1'</span>: <span style=\"color: #800080; text-decoration-color: #800080; font-weight: bold\">UnionType</span><span style=\"font-weight: bold\">(</span><span style=\"color: #808000; text-decoration-color: #808000\">ts</span>=<span style=\"color: #800080; text-decoration-color: #800080; font-weight: bold\">frozenset</span><span style=\"font-weight: bold\">({</span><span style=\"color: #800080; text-decoration-color: #800080; font-weight: bold\">FloatType</span><span style=\"font-weight: bold\">()</span>, <span style=\"color: #800080; text-decoration-color: #800080; font-weight: bold\">IntType</span><span style=\"font-weight: bold\">()}))</span>,\n",
       "        <span style=\"color: #008000; text-decoration-color: #008000\">'Y'</span>: <span style=\"color: #800080; text-decoration-color: #800080; font-weight: bold\">UnionType</span><span style=\"font-weight: bold\">(</span><span style=\"color: #808000; text-decoration-color: #808000\">ts</span>=<span style=\"color: #800080; text-decoration-color: #800080; font-weight: bold\">frozenset</span><span style=\"font-weight: bold\">({</span><span style=\"color: #800080; text-decoration-color: #800080; font-weight: bold\">FloatType</span><span style=\"font-weight: bold\">()</span>, <span style=\"color: #800080; text-decoration-color: #800080; font-weight: bold\">IntType</span><span style=\"font-weight: bold\">()}))</span>,\n",
       "        <span style=\"color: #008000; text-decoration-color: #008000\">'b_0'</span>: <span style=\"color: #800080; text-decoration-color: #800080; font-weight: bold\">FloatType</span><span style=\"font-weight: bold\">()</span>,\n",
       "        <span style=\"color: #008000; text-decoration-color: #008000\">'b_1'</span>: <span style=\"color: #800080; text-decoration-color: #800080; font-weight: bold\">FloatType</span><span style=\"font-weight: bold\">()</span>\n",
       "    <span style=\"font-weight: bold\">}</span>\n",
       "<span style=\"font-weight: bold\">)</span>\n",
       "</pre>\n"
      ]
     },
     "metadata": {},
     "output_type": "display_data"
    }
   ],
   "execution_count": 5
  },
  {
   "metadata": {
    "ExecuteTime": {
     "end_time": "2024-09-30T22:34:15.316177Z",
     "start_time": "2024-09-30T22:34:15.313704Z"
    }
   },
   "cell_type": "code",
   "source": "rk.trait.Linear2.__name__",
   "id": "223f0cecc02097d3",
   "outputs": [
    {
     "data": {
      "text/plain": [
       "'Linear2'"
      ]
     },
     "execution_count": 6,
     "metadata": {},
     "output_type": "execute_result"
    }
   ],
   "execution_count": 6
  },
  {
   "metadata": {
    "ExecuteTime": {
     "end_time": "2024-09-30T22:34:15.421010Z",
     "start_time": "2024-09-30T22:34:15.419045Z"
    }
   },
   "cell_type": "code",
   "source": [
    "def primitive_types() -> Generator[PrimitiveType]:\n",
    "    yield rk.int_()\n",
    "    yield rk.float_()\n",
    "    yield rk.str_()\n",
    "    yield rk.bool_()"
   ],
   "id": "3024de98be4fb45",
   "outputs": [],
   "execution_count": 7
  },
  {
   "metadata": {
    "ExecuteTime": {
     "end_time": "2024-09-30T22:34:15.433928Z",
     "start_time": "2024-09-30T22:34:15.430195Z"
    }
   },
   "cell_type": "code",
   "source": "print(rk.trait.Equal.spec)",
   "id": "c52e6304e42020d9",
   "outputs": [
    {
     "data": {
      "text/plain": [
       "\u001B[1;35mTraitSpec\u001B[0m\u001B[1m(\u001B[0m\n",
       "    \u001B[33mid\u001B[0m=\u001B[32m'Equal'\u001B[0m,\n",
       "    \u001B[33mname\u001B[0m=\u001B[32m'Equal'\u001B[0m,\n",
       "    \u001B[33mkind\u001B[0m=\u001B[1m<\u001B[0m\u001B[1;95mTraitKind.LOGICAL:\u001B[0m\u001B[39m \u001B[0m\u001B[32m'logical'\u001B[0m\u001B[1m>\u001B[0m,\n",
       "    \u001B[33mpattern\u001B[0m=\u001B[32m'\u001B[0m\u001B[32m{\u001B[0m\u001B[32mA\u001B[0m\u001B[32m}\u001B[0m\u001B[32m = \u001B[0m\u001B[32m{\u001B[0m\u001B[32mB\u001B[0m\u001B[32m}\u001B[0m\u001B[32m'\u001B[0m,\n",
       "    \u001B[33mcommutors\u001B[0m=\u001B[1m{\u001B[0m\u001B[32m'B'\u001B[0m, \u001B[32m'A'\u001B[0m\u001B[1m}\u001B[0m,\n",
       "    \u001B[33mtypevars\u001B[0m=\u001B[1m{\u001B[0m\u001B[32m'T'\u001B[0m: \u001B[1;35mUnionType\u001B[0m\u001B[1m(\u001B[0m\u001B[33mts\u001B[0m=\u001B[1;35mfrozenset\u001B[0m\u001B[1m(\u001B[0m\u001B[1m{\u001B[0m\u001B[1;35mIntType\u001B[0m\u001B[1m(\u001B[0m\u001B[1m)\u001B[0m, \u001B[1;35mStringType\u001B[0m\u001B[1m(\u001B[0m\u001B[1m)\u001B[0m, \u001B[1;35mBoolType\u001B[0m\u001B[1m(\u001B[0m\u001B[1m)\u001B[0m\u001B[1m}\u001B[0m\u001B[1m)\u001B[0m\u001B[1m)\u001B[0m\u001B[1m}\u001B[0m,\n",
       "    \u001B[33mtypings\u001B[0m=\u001B[1m{\u001B[0m\u001B[32m'A'\u001B[0m: \u001B[32m'T'\u001B[0m, \u001B[32m'B'\u001B[0m: \u001B[32m'T'\u001B[0m\u001B[1m}\u001B[0m\n",
       "\u001B[1m)\u001B[0m\n"
      ],
      "text/html": [
       "<pre style=\"white-space:pre;overflow-x:auto;line-height:normal;font-family:Menlo,'DejaVu Sans Mono',consolas,'Courier New',monospace\"><span style=\"color: #800080; text-decoration-color: #800080; font-weight: bold\">TraitSpec</span><span style=\"font-weight: bold\">(</span>\n",
       "    <span style=\"color: #808000; text-decoration-color: #808000\">id</span>=<span style=\"color: #008000; text-decoration-color: #008000\">'Equal'</span>,\n",
       "    <span style=\"color: #808000; text-decoration-color: #808000\">name</span>=<span style=\"color: #008000; text-decoration-color: #008000\">'Equal'</span>,\n",
       "    <span style=\"color: #808000; text-decoration-color: #808000\">kind</span>=<span style=\"font-weight: bold\">&lt;</span><span style=\"color: #ff00ff; text-decoration-color: #ff00ff; font-weight: bold\">TraitKind.LOGICAL:</span><span style=\"color: #000000; text-decoration-color: #000000\"> </span><span style=\"color: #008000; text-decoration-color: #008000\">'logical'</span><span style=\"font-weight: bold\">&gt;</span>,\n",
       "    <span style=\"color: #808000; text-decoration-color: #808000\">pattern</span>=<span style=\"color: #008000; text-decoration-color: #008000\">'{A} = {B}'</span>,\n",
       "    <span style=\"color: #808000; text-decoration-color: #808000\">commutors</span>=<span style=\"font-weight: bold\">{</span><span style=\"color: #008000; text-decoration-color: #008000\">'B'</span>, <span style=\"color: #008000; text-decoration-color: #008000\">'A'</span><span style=\"font-weight: bold\">}</span>,\n",
       "    <span style=\"color: #808000; text-decoration-color: #808000\">typevars</span>=<span style=\"font-weight: bold\">{</span><span style=\"color: #008000; text-decoration-color: #008000\">'T'</span>: <span style=\"color: #800080; text-decoration-color: #800080; font-weight: bold\">UnionType</span><span style=\"font-weight: bold\">(</span><span style=\"color: #808000; text-decoration-color: #808000\">ts</span>=<span style=\"color: #800080; text-decoration-color: #800080; font-weight: bold\">frozenset</span><span style=\"font-weight: bold\">({</span><span style=\"color: #800080; text-decoration-color: #800080; font-weight: bold\">IntType</span><span style=\"font-weight: bold\">()</span>, <span style=\"color: #800080; text-decoration-color: #800080; font-weight: bold\">StringType</span><span style=\"font-weight: bold\">()</span>, <span style=\"color: #800080; text-decoration-color: #800080; font-weight: bold\">BoolType</span><span style=\"font-weight: bold\">()}))}</span>,\n",
       "    <span style=\"color: #808000; text-decoration-color: #808000\">typings</span>=<span style=\"font-weight: bold\">{</span><span style=\"color: #008000; text-decoration-color: #008000\">'A'</span>: <span style=\"color: #008000; text-decoration-color: #008000\">'T'</span>, <span style=\"color: #008000; text-decoration-color: #008000\">'B'</span>: <span style=\"color: #008000; text-decoration-color: #008000\">'T'</span><span style=\"font-weight: bold\">}</span>\n",
       "<span style=\"font-weight: bold\">)</span>\n",
       "</pre>\n"
      ]
     },
     "metadata": {},
     "output_type": "display_data"
    }
   ],
   "execution_count": 8
  },
  {
   "metadata": {
    "ExecuteTime": {
     "end_time": "2024-09-30T22:34:15.449945Z",
     "start_time": "2024-09-30T22:34:15.447071Z"
    }
   },
   "cell_type": "code",
   "source": [
    "def monomorphize(spec: rk.TraitSpec) -> list[TraitSpec]:\n",
    "    \"\"\"\n",
    "    :returns: a list of typing dictionaries where all type variables are replaced by concrete types.\n",
    "    \"\"\"\n",
    "    typevars = spec.typevars\n",
    "\n",
    "    # Split the typings out into mono (concrete) and poly (variable) parts.\n",
    "    mono_typings = {k: ty for k, ty in spec.typings.items() if isinstance(ty, RenkonType)}\n",
    "    poly_typings = {k: tv for k, tv in spec.typings.items() if isinstance(tv, str)}\n",
    "\n",
    "    typings = list()\n",
    "    for typevar in spec.typevars:\n",
    "        print(typevar)\n",
    "        \n",
    "    return typings"
   ],
   "id": "273fa832a3a5ff1f",
   "outputs": [],
   "execution_count": 9
  },
  {
   "metadata": {
    "ExecuteTime": {
     "end_time": "2024-09-30T22:34:15.466031Z",
     "start_time": "2024-09-30T22:34:15.462687Z"
    }
   },
   "cell_type": "code",
   "source": "monomorphize(rk.trait.Equal.spec)",
   "id": "453c22120ad0c468",
   "outputs": [
    {
     "data": {
      "text/plain": [
       "T\n"
      ],
      "text/html": [
       "<pre style=\"white-space:pre;overflow-x:auto;line-height:normal;font-family:Menlo,'DejaVu Sans Mono',consolas,'Courier New',monospace\">T\n",
       "</pre>\n"
      ]
     },
     "metadata": {},
     "output_type": "display_data"
    },
    {
     "data": {
      "text/plain": [
       "[]"
      ]
     },
     "execution_count": 10,
     "metadata": {},
     "output_type": "execute_result"
    }
   ],
   "execution_count": 10
  },
  {
   "metadata": {
    "ExecuteTime": {
     "end_time": "2024-09-30T22:34:15.483870Z",
     "start_time": "2024-09-30T22:34:15.479869Z"
    }
   },
   "cell_type": "code",
   "source": [
    "def instantiate(spec: rk.TraitSpec, schema: rk.Schema) -> Generator[TraitSketch]:\n",
    "    @dataclass\n",
    "    class Problem:\n",
    "        trait_spec: TraitSpec\n",
    "        df_schema: rk.Schema\n",
    "        mv_tv: dict[str, str]\n",
    "        tv_schema: rk.Schema\n",
    "\n",
    "    @dataclass\n",
    "    class Candidate:\n",
    "        tv_ty: dict[str, str]  # tv ty choices \n",
    "        tv_schema_rest: rk.Schema  # remaining tvs \n",
    "\n",
    "    type Solution = TraitSketch\n",
    "\n",
    "    def make_problem() -> Problem:\n",
    "        \"\"\"\n",
    "        Normalizes problem so that all metavars have a type variable.\n",
    "        \n",
    "        :returns: a mapping from columns to type variables, and one from type variables to upper type bounds.\n",
    "        \"\"\"\n",
    "        mv_tv = dict()\n",
    "        tyvar_schema = rk.Schema(spec.typevars)\n",
    "\n",
    "        for mv, ty in spec.typings.items():\n",
    "            match ty:\n",
    "                case str():\n",
    "                    mv_tv[mv] = ty  # ty is a tv already\n",
    "                case RenkonType():\n",
    "                    tv = f\"_T_{mv}\"  # create a new unique tv \n",
    "                    tyvar_schema[tv] = ty\n",
    "                    mv_tv[mv] = tv\n",
    "\n",
    "        return Problem(\n",
    "            trait_spec=spec,\n",
    "            df_schema=schema,\n",
    "            mv_tv=mv_tv,\n",
    "            tv_schema=tyvar_schema\n",
    "        )\n",
    "\n",
    "    def make_root_candidate(p: Problem) -> Candidate:\n",
    "        return Candidate(\n",
    "            tv_ty=dict(),\n",
    "            tv_schema_rest=p.tv_schema\n",
    "        )\n",
    "\n",
    "    def reject(p: Problem, c: Candidate) -> bool:\n",
    "        \"\"\":returns: true if the partial bindings are not worth continuing with.\"\"\"\n",
    "        return False\n",
    "\n",
    "    def accept(p: Problem, c: Candidate) -> bool:\n",
    "        \"\"\":returns: true if the bindings fully satisfy the instantiation constraints.\"\"\"\n",
    "        return True\n",
    "\n",
    "    def first(p: Problem, c: Candidate) -> Candidate:\n",
    "        \"\"\"Generate the first extension of candidate c.\"\"\"\n",
    "        pass\n",
    "\n",
    "    def next(p: Problem, s: Candidate) -> Candidate:\n",
    "        \"\"\"Generate the next alternative extension of candidate after s.\"\"\"\n",
    "        pass\n",
    "\n",
    "    def output(bindings: dict[str, str]) -> Solution:\n",
    "        return TraitSketch(spec=spec, schema=schema, bindings=bindings)\n",
    "\n",
    "    def backtrack(p: Problem, c: Candidate) -> Generator[[TraitSketch]]:\n",
    "        pass\n",
    "\n",
    "    p = make_problem()\n",
    "    c = make_root_candidate(p)\n",
    "    print(c)\n",
    "    yield from backtrack(p, c)"
   ],
   "id": "27b12573792507fd",
   "outputs": [],
   "execution_count": 11
  },
  {
   "metadata": {
    "ExecuteTime": {
     "end_time": "2024-09-30T22:34:15.601680Z",
     "start_time": "2024-09-30T22:34:15.495885Z"
    }
   },
   "cell_type": "code",
   "source": [
    "inst = instantiate(rk.trait.Linear2.spec, schema)\n",
    "\n",
    "print(list(inst))"
   ],
   "id": "8253ea67be3b60b4",
   "outputs": [
    {
     "data": {
      "text/plain": [
       "\u001B[1;35mCandidate\u001B[0m\u001B[1m(\u001B[0m\n",
       "    \u001B[33mtv_ty\u001B[0m=\u001B[1m{\u001B[0m\u001B[1m}\u001B[0m,\n",
       "    \u001B[33mtv_schema_rest\u001B[0m=\u001B[1m{\u001B[0m\n",
       "        \u001B[32m'_T_X_1'\u001B[0m: \u001B[1;35mUnionType\u001B[0m\u001B[1m(\u001B[0m\u001B[33mts\u001B[0m=\u001B[1;35mfrozenset\u001B[0m\u001B[1m(\u001B[0m\u001B[1m{\u001B[0m\u001B[1;35mFloatType\u001B[0m\u001B[1m(\u001B[0m\u001B[1m)\u001B[0m, \u001B[1;35mIntType\u001B[0m\u001B[1m(\u001B[0m\u001B[1m)\u001B[0m\u001B[1m}\u001B[0m\u001B[1m)\u001B[0m\u001B[1m)\u001B[0m,\n",
       "        \u001B[32m'_T_Y'\u001B[0m: \u001B[1;35mUnionType\u001B[0m\u001B[1m(\u001B[0m\u001B[33mts\u001B[0m=\u001B[1;35mfrozenset\u001B[0m\u001B[1m(\u001B[0m\u001B[1m{\u001B[0m\u001B[1;35mFloatType\u001B[0m\u001B[1m(\u001B[0m\u001B[1m)\u001B[0m, \u001B[1;35mIntType\u001B[0m\u001B[1m(\u001B[0m\u001B[1m)\u001B[0m\u001B[1m}\u001B[0m\u001B[1m)\u001B[0m\u001B[1m)\u001B[0m,\n",
       "        \u001B[32m'_T_b_0'\u001B[0m: \u001B[1;35mFloatType\u001B[0m\u001B[1m(\u001B[0m\u001B[1m)\u001B[0m,\n",
       "        \u001B[32m'_T_b_1'\u001B[0m: \u001B[1;35mFloatType\u001B[0m\u001B[1m(\u001B[0m\u001B[1m)\u001B[0m\n",
       "    \u001B[1m}\u001B[0m\n",
       "\u001B[1m)\u001B[0m\n"
      ],
      "text/html": [
       "<pre style=\"white-space:pre;overflow-x:auto;line-height:normal;font-family:Menlo,'DejaVu Sans Mono',consolas,'Courier New',monospace\"><span style=\"color: #800080; text-decoration-color: #800080; font-weight: bold\">Candidate</span><span style=\"font-weight: bold\">(</span>\n",
       "    <span style=\"color: #808000; text-decoration-color: #808000\">tv_ty</span>=<span style=\"font-weight: bold\">{}</span>,\n",
       "    <span style=\"color: #808000; text-decoration-color: #808000\">tv_schema_rest</span>=<span style=\"font-weight: bold\">{</span>\n",
       "        <span style=\"color: #008000; text-decoration-color: #008000\">'_T_X_1'</span>: <span style=\"color: #800080; text-decoration-color: #800080; font-weight: bold\">UnionType</span><span style=\"font-weight: bold\">(</span><span style=\"color: #808000; text-decoration-color: #808000\">ts</span>=<span style=\"color: #800080; text-decoration-color: #800080; font-weight: bold\">frozenset</span><span style=\"font-weight: bold\">({</span><span style=\"color: #800080; text-decoration-color: #800080; font-weight: bold\">FloatType</span><span style=\"font-weight: bold\">()</span>, <span style=\"color: #800080; text-decoration-color: #800080; font-weight: bold\">IntType</span><span style=\"font-weight: bold\">()}))</span>,\n",
       "        <span style=\"color: #008000; text-decoration-color: #008000\">'_T_Y'</span>: <span style=\"color: #800080; text-decoration-color: #800080; font-weight: bold\">UnionType</span><span style=\"font-weight: bold\">(</span><span style=\"color: #808000; text-decoration-color: #808000\">ts</span>=<span style=\"color: #800080; text-decoration-color: #800080; font-weight: bold\">frozenset</span><span style=\"font-weight: bold\">({</span><span style=\"color: #800080; text-decoration-color: #800080; font-weight: bold\">FloatType</span><span style=\"font-weight: bold\">()</span>, <span style=\"color: #800080; text-decoration-color: #800080; font-weight: bold\">IntType</span><span style=\"font-weight: bold\">()}))</span>,\n",
       "        <span style=\"color: #008000; text-decoration-color: #008000\">'_T_b_0'</span>: <span style=\"color: #800080; text-decoration-color: #800080; font-weight: bold\">FloatType</span><span style=\"font-weight: bold\">()</span>,\n",
       "        <span style=\"color: #008000; text-decoration-color: #008000\">'_T_b_1'</span>: <span style=\"color: #800080; text-decoration-color: #800080; font-weight: bold\">FloatType</span><span style=\"font-weight: bold\">()</span>\n",
       "    <span style=\"font-weight: bold\">}</span>\n",
       "<span style=\"font-weight: bold\">)</span>\n",
       "</pre>\n"
      ]
     },
     "metadata": {},
     "output_type": "display_data"
    },
    {
     "ename": "TypeError",
     "evalue": "'NoneType' object is not iterable",
     "output_type": "error",
     "traceback": [
      "\u001B[0;31m---------------------------------------------------------------------------\u001B[0m",
      "\u001B[0;31mTypeError\u001B[0m                                 Traceback (most recent call last)",
      "Cell \u001B[0;32mIn[12], line 3\u001B[0m\n\u001B[1;32m      1\u001B[0m inst \u001B[38;5;241m=\u001B[39m instantiate(rk\u001B[38;5;241m.\u001B[39mtrait\u001B[38;5;241m.\u001B[39mLinear2\u001B[38;5;241m.\u001B[39mspec, schema)\n\u001B[0;32m----> 3\u001B[0m \u001B[38;5;28mprint\u001B[39m(\u001B[38;5;28;43mlist\u001B[39;49m\u001B[43m(\u001B[49m\u001B[43minst\u001B[49m\u001B[43m)\u001B[49m)\n",
      "Cell \u001B[0;32mIn[11], line 72\u001B[0m, in \u001B[0;36minstantiate\u001B[0;34m(spec, schema)\u001B[0m\n\u001B[1;32m     70\u001B[0m c \u001B[38;5;241m=\u001B[39m make_root_candidate(p)\n\u001B[1;32m     71\u001B[0m \u001B[38;5;28mprint\u001B[39m(c)\n\u001B[0;32m---> 72\u001B[0m \u001B[38;5;28;01myield from\u001B[39;00m backtrack(p, c)\n",
      "\u001B[0;31mTypeError\u001B[0m: 'NoneType' object is not iterable"
     ]
    }
   ],
   "execution_count": 12
  },
  {
   "metadata": {},
   "cell_type": "code",
   "outputs": [],
   "execution_count": null,
   "source": "",
   "id": "89e13ba1c7dfb675"
  },
  {
   "metadata": {},
   "cell_type": "markdown",
   "source": [
    "### Notes\n",
    "\n",
    "#### The problem:\n",
    "\n",
    "There is a difference between `x :: int | str` and `y :: T, z :: T, T s.t. T :: int | str`:\n",
    "\n",
    "  - `x` is allowed to be either `int` or `float`.\n",
    "  - `y` and `z` are allowed to _both_ either be _the same choice_ of `int` or `float`. \n",
    "\n",
    "In other words, `y :: T, z:: T s.t. T :: int | str` does **not** reduce to `y :: int | str, z :: int | str`.\n",
    "\n",
    "However, introducing type variables, `x :: T_x s.t. T_x :: int | str`, is correct.\n",
    "\n",
    "#### Is it enough to pick concrete types first?\n",
    "\n",
    "...or can it be any subtype? Consider `y :: T, z :: T s.t. T : int | str | bool` (ignoring `float` for now due to subtyping).\n",
    "\n",
    "Is it okay to choose `T :: int | str`? Why or why not?"
   ],
   "id": "7b91bd1d9091950e"
  },
  {
   "metadata": {
    "ExecuteTime": {
     "end_time": "2024-09-30T22:34:15.604527Z",
     "start_time": "2024-09-30T17:15:06.622239Z"
    }
   },
   "cell_type": "code",
   "source": "",
   "id": "558a047662c07399",
   "outputs": [],
   "execution_count": null
  },
  {
   "metadata": {},
   "cell_type": "code",
   "outputs": [],
   "execution_count": null,
   "source": [
    "def pseudo_\n",
    "\n",
    "\n",
    "def pseudo_instantiate(spec: rk.TraitSpec, schema: rk.Schema) -> Generator[TraitSketch]:\n",
    "    "
   ],
   "id": "cd85e268bb4aa111"
  }
 ],
 "metadata": {
  "kernelspec": {
   "display_name": "Python 3",
   "language": "python",
   "name": "python3"
  },
  "language_info": {
   "codemirror_mode": {
    "name": "ipython",
    "version": 2
   },
   "file_extension": ".py",
   "mimetype": "text/x-python",
   "name": "python",
   "nbconvert_exporter": "python",
   "pygments_lexer": "ipython2",
   "version": "2.7.6"
  }
 },
 "nbformat": 4,
 "nbformat_minor": 5
}
